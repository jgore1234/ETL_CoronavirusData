{
 "cells": [
  {
   "cell_type": "markdown",
   "metadata": {},
   "source": [
    "# Population Data for All States in the U.S."
   ]
  },
  {
   "cell_type": "code",
   "execution_count": 5,
   "metadata": {},
   "outputs": [],
   "source": [
    "# Scrapes the site World Population Review for US States data and dumps it into a dataframe\n",
    "import pandas as pd\n",
    "from bs4 import BeautifulSoup\n",
    "import requests\n",
    "import re\n",
    "from webdriver_manager.chrome import ChromeDriverManager\n",
    "from splinter import Browser"
   ]
  },
  {
   "cell_type": "code",
   "execution_count": 6,
   "metadata": {},
   "outputs": [
    {
     "name": "stderr",
     "output_type": "stream",
     "text": [
      "[WDM] - ====== WebDriver manager ======\n",
      "[WDM] - Current google-chrome version is 89.0.4389\n",
      "[WDM] - Get LATEST driver version for 89.0.4389\n",
      "[WDM] - Driver [/Users/nataligracia/.wdm/drivers/chromedriver/mac64/89.0.4389.23/chromedriver] found in cache\n"
     ]
    },
    {
     "name": "stdout",
     "output_type": "stream",
     "text": [
      "\n",
      "\n"
     ]
    }
   ],
   "source": [
    "# Setup splinter\n",
    "executable_path = {'executable_path': ChromeDriverManager().install()}\n",
    "browser = Browser('chrome', **executable_path, headless=False) # headless=True hides the chrome window pop-up"
   ]
  },
  {
   "cell_type": "code",
   "execution_count": 7,
   "metadata": {},
   "outputs": [],
   "source": [
    "# Ensure browser chrome window resets\n",
    "# browser.quit()"
   ]
  },
  {
   "cell_type": "code",
   "execution_count": 8,
   "metadata": {},
   "outputs": [],
   "source": [
    "# Set up the necessary variables\n",
    "\n",
    "url = 'https://worldpopulationreview.com/states'\n",
    "\n",
    "browser.visit(url)\n",
    "\n",
    "html = browser.html\n",
    "\n",
    "soup = BeautifulSoup(html, 'html.parser')"
   ]
  },
  {
   "cell_type": "code",
   "execution_count": 9,
   "metadata": {},
   "outputs": [
    {
     "data": {
      "text/plain": [
       "<table class=\"jsx-1487038798 table table-striped tp-table-body\"><thead class=\"jsx-2642336383\" style=\"font-weight: bold;\"><tr class=\"jsx-2642336383\"><th class=\"jsx-2816426159\"><span class=\"jsx-2816426159\"><a class=\"jsx-2816426159\" data-field=\"rank\" style=\"color: black; cursor: pointer; display: inline-block;\">Rank  </a></span></th><th class=\"jsx-2816426159\"><span class=\"jsx-2816426159\"><a class=\"jsx-2816426159\" data-field=\"State\" style=\"color: black; cursor: pointer; display: inline-block;\">State  </a></span></th><th class=\"jsx-2816426159\"><span class=\"jsx-2816426159\"><a class=\"jsx-2816426159\" data-field=\"Pop\" style=\"color: black; cursor: pointer; display: inline-block;\">2021 Pop. <svg fill=\"currentColor\" height=\"1em\" stroke=\"currentColor\" stroke-width=\"0\" viewbox=\"0 0 320 512\" width=\"1em\" xmlns=\"http://www.w3.org/2000/svg\"><path d=\"M31.3 192h257.3c17.8 0 26.7 21.5 14.1 34.1L174.1 354.8c-7.8 7.8-20.5 7.8-28.3 0L17.2 226.1C4.6 213.5 13.5 192 31.3 192z\"></path></svg> </a></span></th><th class=\"jsx-2816426159\"><span class=\"jsx-2816426159\"><a class=\"jsx-2816426159\" data-field=\"Growth\" style=\"color: black; cursor: pointer; display: inline-block;\">2021 Growth  </a></span></th><th class=\"jsx-2816426159\"><span class=\"jsx-2816426159\"><a class=\"jsx-2816426159\" data-field=\"Pop2018\" style=\"color: black; cursor: pointer; display: inline-block;\">2018 Pop.  </a></span></th><th class=\"jsx-2816426159\"><span class=\"jsx-2816426159\"><a class=\"jsx-2816426159\" data-field=\"Pop2010\" style=\"color: black; cursor: pointer; display: inline-block;\">2010 Census  </a></span></th><th class=\"jsx-2816426159\"><span class=\"jsx-2816426159\"><a class=\"jsx-2816426159\" data-field=\"growthSince2010\" style=\"color: black; cursor: pointer; display: inline-block;\">Growth Since 2010  </a></span></th><th class=\"jsx-2816426159\"><span class=\"jsx-2816426159\"><a class=\"jsx-2816426159\" data-field=\"Percent\" style=\"color: black; cursor: pointer; display: inline-block;\">% of US  </a></span></th><th class=\"jsx-2816426159\"><span class=\"jsx-2816426159\"><a class=\"jsx-2816426159\" data-field=\"density\" style=\"color: black; cursor: pointer; display: inline-block; padding-right: 12px;\">Density (p/mi²)  </a></span></th></tr></thead><tbody class=\"jsx-2642336383\"><tr><td>1</td><td><a href=\"/states/california-population\">California</a></td><td>39,613,500</td><td><span style=\"color: green;\">0.38%</span></td><td>39,461,600</td><td>37,319,500</td><td><span style=\"color: green;\">6.15%</span></td><td>11.84%</td><td>254</td></tr><tr><td>2</td><td><a href=\"/states/texas-population\">Texas</a></td><td>29,730,300</td><td><span style=\"color: green;\">3.85%</span></td><td>28,628,700</td><td>25,242,000</td><td><span style=\"color: green;\">17.78%</span></td><td>8.89%</td><td>114</td></tr><tr><td>3</td><td><a href=\"/states/florida-population\">Florida</a></td><td>21,944,600</td><td><span style=\"color: green;\">3.30%</span></td><td>21,244,300</td><td>18,845,500</td><td><span style=\"color: green;\">16.44%</span></td><td>6.56%</td><td>409</td></tr><tr><td>4</td><td><a href=\"/states/new-york-population\">New York</a></td><td>19,300,000</td><td><span style=\"color: red;\">-1.18%</span></td><td>19,530,400</td><td>19,399,900</td><td><span style=\"color: red;\">-0.51%</span></td><td>5.77%</td><td>410</td></tr><tr><td>5</td><td><a href=\"/states/pennsylvania-population\">Pennsylvania</a></td><td>12,804,100</td><td><span style=\"color: green;\">0.02%</span></td><td>12,800,900</td><td>12,711,200</td><td><span style=\"color: green;\">0.73%</span></td><td>3.83%</td><td>286</td></tr><tr><td>6</td><td><a href=\"/states/illinois-population\">Illinois</a></td><td>12,569,300</td><td><span style=\"color: red;\">-1.21%</span></td><td>12,723,100</td><td>12,840,500</td><td><span style=\"color: red;\">-2.11%</span></td><td>3.76%</td><td>226</td></tr><tr><td>7</td><td><a href=\"/states/ohio-population\">Ohio</a></td><td>11,714,600</td><td><span style=\"color: green;\">0.33%</span></td><td>11,676,300</td><td>11,539,300</td><td><span style=\"color: green;\">1.52%</span></td><td>3.50%</td><td>287</td></tr><tr><td>8</td><td><a href=\"/states/georgia-population\">Georgia</a></td><td>10,830,000</td><td><span style=\"color: green;\">3.03%</span></td><td>10,511,100</td><td>9,711,880</td><td><span style=\"color: green;\">11.51%</span></td><td>3.24%</td><td>188</td></tr><tr><td>9</td><td><a href=\"/states/north-carolina-population\">North Carolina</a></td><td>10,701,000</td><td><span style=\"color: green;\">3.08%</span></td><td>10,381,600</td><td>9,574,320</td><td><span style=\"color: green;\">11.77%</span></td><td>3.20%</td><td>220</td></tr><tr><td>10</td><td><a href=\"/states/michigan-population\">Michigan</a></td><td>9,992,430</td><td><span style=\"color: green;\">0.08%</span></td><td>9,984,070</td><td>9,877,510</td><td><span style=\"color: green;\">1.16%</span></td><td>2.99%</td><td>177</td></tr><tr><td>11</td><td><a href=\"/states/new-jersey-population\">New Jersey</a></td><td>8,874,520</td><td><span style=\"color: red;\">-0.13%</span></td><td>8,886,020</td><td>8,799,450</td><td><span style=\"color: green;\">0.85%</span></td><td>2.65%</td><td>1,207</td></tr><tr><td>12</td><td><a href=\"/states/virginia-population\">Virginia</a></td><td>8,603,980</td><td><span style=\"color: green;\">1.21%</span></td><td>8,501,290</td><td>8,023,700</td><td><span style=\"color: green;\">7.23%</span></td><td>2.57%</td><td>218</td></tr><tr><td>13</td><td><a href=\"/states/washington-population\">Washington</a></td><td>7,796,940</td><td><span style=\"color: green;\">3.63%</span></td><td>7,523,870</td><td>6,742,830</td><td><span style=\"color: green;\">15.63%</span></td><td>2.33%</td><td>117</td></tr><tr><td>14</td><td><a href=\"/states/arizona-population\">Arizona</a></td><td>7,520,100</td><td><span style=\"color: green;\">5.06%</span></td><td>7,158,020</td><td>6,407,170</td><td><span style=\"color: green;\">17.37%</span></td><td>2.25%</td><td>66</td></tr><tr><td>15</td><td><a href=\"/states/tennessee-population\">Tennessee</a></td><td>6,944,260</td><td><span style=\"color: green;\">2.55%</span></td><td>6,771,630</td><td>6,355,310</td><td><span style=\"color: green;\">9.27%</span></td><td>2.08%</td><td>168</td></tr><tr><td>16</td><td><a href=\"/states/massachusetts-population\">Massachusetts</a></td><td>6,912,240</td><td><span style=\"color: green;\">0.43%</span></td><td>6,882,640</td><td>6,566,310</td><td><span style=\"color: green;\">5.27%</span></td><td>2.07%</td><td>886</td></tr><tr><td>17</td><td><a href=\"/states/indiana-population\">Indiana</a></td><td>6,805,660</td><td><span style=\"color: green;\">1.65%</span></td><td>6,695,500</td><td>6,490,430</td><td><span style=\"color: green;\">4.86%</span></td><td>2.03%</td><td>190</td></tr><tr><td>18</td><td><a href=\"/states/missouri-population\">Missouri</a></td><td>6,169,040</td><td><span style=\"color: green;\">0.77%</span></td><td>6,121,620</td><td>5,995,970</td><td><span style=\"color: green;\">2.89%</span></td><td>1.84%</td><td>90</td></tr><tr><td>19</td><td><a href=\"/states/maryland-population\">Maryland</a></td><td>6,065,440</td><td><span style=\"color: green;\">0.49%</span></td><td>6,035,800</td><td>5,788,640</td><td><span style=\"color: green;\">4.78%</span></td><td>1.81%</td><td>625</td></tr><tr><td>20</td><td><a href=\"/states/colorado-population\">Colorado</a></td><td>5,893,630</td><td><span style=\"color: green;\">3.56%</span></td><td>5,691,290</td><td>5,047,350</td><td><span style=\"color: green;\">16.77%</span></td><td>1.76%</td><td>57</td></tr><tr><td>21</td><td><a href=\"/states/wisconsin-population\">Wisconsin</a></td><td>5,852,490</td><td><span style=\"color: green;\">0.78%</span></td><td>5,807,410</td><td>5,690,480</td><td><span style=\"color: green;\">2.85%</span></td><td>1.75%</td><td>108</td></tr><tr><td>22</td><td><a href=\"/states/minnesota-population\">Minnesota</a></td><td>5,706,400</td><td><span style=\"color: green;\">1.79%</span></td><td>5,606,250</td><td>5,310,830</td><td><span style=\"color: green;\">7.45%</span></td><td>1.71%</td><td>72</td></tr><tr><td>23</td><td><a href=\"/states/south-carolina-population\">South Carolina</a></td><td>5,277,830</td><td><span style=\"color: green;\">3.81%</span></td><td>5,084,160</td><td>4,635,650</td><td><span style=\"color: green;\">13.85%</span></td><td>1.58%</td><td>176</td></tr><tr><td>24</td><td><a href=\"/states/alabama-population\">Alabama</a></td><td>4,934,190</td><td><span style=\"color: green;\">0.95%</span></td><td>4,887,680</td><td>4,785,440</td><td><span style=\"color: green;\">3.11%</span></td><td>1.47%</td><td>97</td></tr><tr><td>25</td><td><a href=\"/states/louisiana-population\">Louisiana</a></td><td>4,627,000</td><td><span style=\"color: red;\">-0.70%</span></td><td>4,659,690</td><td>4,544,530</td><td><span style=\"color: green;\">1.81%</span></td><td>1.38%</td><td>107</td></tr><tr><td>26</td><td><a href=\"/states/kentucky-population\">Kentucky</a></td><td>4,480,710</td><td><span style=\"color: green;\">0.44%</span></td><td>4,461,150</td><td>4,348,180</td><td><span style=\"color: green;\">3.05%</span></td><td>1.34%</td><td>113</td></tr><tr><td>27</td><td><a href=\"/states/oregon-population\">Oregon</a></td><td>4,289,440</td><td><span style=\"color: green;\">2.57%</span></td><td>4,181,890</td><td>3,837,490</td><td><span style=\"color: green;\">11.78%</span></td><td>1.28%</td><td>45</td></tr><tr><td>28</td><td><a href=\"/states/oklahoma-population\">Oklahoma</a></td><td>3,990,440</td><td><span style=\"color: green;\">1.27%</span></td><td>3,940,240</td><td>3,759,940</td><td><span style=\"color: green;\">6.13%</span></td><td>1.19%</td><td>58</td></tr><tr><td>29</td><td><a href=\"/states/connecticut-population\">Connecticut</a></td><td>3,552,820</td><td><span style=\"color: red;\">-0.52%</span></td><td>3,571,520</td><td>3,579,110</td><td><span style=\"color: red;\">-0.73%</span></td><td>1.06%</td><td>734</td></tr><tr><td>30</td><td><a href=\"/states/utah-population\">Utah</a></td><td>3,310,770</td><td><span style=\"color: green;\">4.99%</span></td><td>3,153,550</td><td>2,775,330</td><td><span style=\"color: green;\">19.29%</span></td><td>0.99%</td><td>40</td></tr><tr><td>31</td><td><a href=\"/states/puerto-rico-population\">Puerto Rico</a></td><td>3,194,370</td><td><span style=\"color: green;\">0.03%</span></td><td>3,193,350</td><td>3,721,520</td><td><span style=\"color: red;\">-14.16%</span></td><td>0.95%</td><td>923</td></tr><tr><td>32</td><td><a href=\"/states/nevada-population\">Nevada</a></td><td>3,185,790</td><td><span style=\"color: green;\">5.23%</span></td><td>3,027,340</td><td>2,702,400</td><td><span style=\"color: green;\">17.89%</span></td><td>0.95%</td><td>29</td></tr><tr><td>33</td><td><a href=\"/states/iowa-population\">Iowa</a></td><td>3,167,970</td><td><span style=\"color: green;\">0.61%</span></td><td>3,148,620</td><td>3,050,740</td><td><span style=\"color: green;\">3.84%</span></td><td>0.95%</td><td>57</td></tr><tr><td>34</td><td><a href=\"/states/arkansas-population\">Arkansas</a></td><td>3,033,950</td><td><span style=\"color: green;\">0.80%</span></td><td>3,009,730</td><td>2,921,960</td><td><span style=\"color: green;\">3.83%</span></td><td>0.91%</td><td>58</td></tr><tr><td>35</td><td><a href=\"/states/mississippi-population\">Mississippi</a></td><td>2,966,410</td><td><span style=\"color: red;\">-0.49%</span></td><td>2,981,020</td><td>2,970,550</td><td><span style=\"color: red;\">-0.14%</span></td><td>0.89%</td><td>63</td></tr><tr><td>36</td><td><a href=\"/states/kansas-population\">Kansas</a></td><td>2,917,220</td><td><span style=\"color: green;\">0.20%</span></td><td>2,911,360</td><td>2,858,190</td><td><span style=\"color: green;\">2.07%</span></td><td>0.87%</td><td>36</td></tr><tr><td>37</td><td><a href=\"/states/new-mexico-population\">New Mexico</a></td><td>2,105,000</td><td><span style=\"color: green;\">0.59%</span></td><td>2,092,740</td><td>2,064,550</td><td><span style=\"color: green;\">1.96%</span></td><td>0.63%</td><td>17</td></tr><tr><td>38</td><td><a href=\"/states/nebraska-population\">Nebraska</a></td><td>1,952,000</td><td><span style=\"color: green;\">1.37%</span></td><td>1,925,610</td><td>1,829,540</td><td><span style=\"color: green;\">6.69%</span></td><td>0.58%</td><td>25</td></tr><tr><td>39</td><td><a href=\"/states/idaho-population\">Idaho</a></td><td>1,860,120</td><td><span style=\"color: green;\">6.26%</span></td><td>1,750,540</td><td>1,570,750</td><td><span style=\"color: green;\">18.42%</span></td><td>0.56%</td><td>23</td></tr><tr><td>40</td><td><a href=\"/states/west-virginia-population\">West Virginia</a></td><td>1,767,860</td><td><span style=\"color: red;\">-2.02%</span></td><td>1,804,290</td><td>1,854,240</td><td><span style=\"color: red;\">-4.66%</span></td><td>0.53%</td><td>74</td></tr><tr><td>41</td><td><a href=\"/states/hawaii-population\">Hawaii</a></td><td>1,406,430</td><td><span style=\"color: red;\">-1.00%</span></td><td>1,420,590</td><td>1,363,960</td><td><span style=\"color: green;\">3.11%</span></td><td>0.42%</td><td>219</td></tr><tr><td>42</td><td><a href=\"/states/new-hampshire-population\">New Hampshire</a></td><td>1,372,200</td><td><span style=\"color: green;\">1.38%</span></td><td>1,353,460</td><td>1,316,760</td><td><span style=\"color: green;\">4.21%</span></td><td>0.41%</td><td>153</td></tr><tr><td>43</td><td><a href=\"/states/maine-population\">Maine</a></td><td>1,354,520</td><td><span style=\"color: green;\">1.15%</span></td><td>1,339,060</td><td>1,327,630</td><td><span style=\"color: green;\">2.03%</span></td><td>0.40%</td><td>44</td></tr><tr><td>44</td><td><a href=\"/states/montana-population\">Montana</a></td><td>1,085,000</td><td><span style=\"color: green;\">2.29%</span></td><td>1,060,660</td><td>990,697</td><td><span style=\"color: green;\">9.52%</span></td><td>0.32%</td><td>7</td></tr><tr><td>45</td><td><a href=\"/states/rhode-island-population\">Rhode Island</a></td><td>1,061,510</td><td><span style=\"color: green;\">0.30%</span></td><td>1,058,290</td><td>1,053,960</td><td><span style=\"color: green;\">0.72%</span></td><td>0.32%</td><td>1,027</td></tr><tr><td>46</td><td><a href=\"/states/delaware-population\">Delaware</a></td><td>990,334</td><td><span style=\"color: green;\">2.57%</span></td><td>965,479</td><td>899,593</td><td><span style=\"color: green;\">10.09%</span></td><td>0.30%</td><td>508</td></tr><tr><td>47</td><td><a href=\"/states/south-dakota-population\">South Dakota</a></td><td>896,581</td><td><span style=\"color: green;\">2.04%</span></td><td>878,698</td><td>816,166</td><td><span style=\"color: green;\">9.85%</span></td><td>0.27%</td><td>12</td></tr><tr><td>48</td><td><a href=\"/states/north-dakota-population\">North Dakota</a></td><td>770,026</td><td><span style=\"color: green;\">1.58%</span></td><td>758,080</td><td>674,715</td><td><span style=\"color: green;\">14.13%</span></td><td>0.23%</td><td>11</td></tr><tr><td>49</td><td><a href=\"/states/alaska-population\">Alaska</a></td><td>724,357</td><td><span style=\"color: red;\">-1.47%</span></td><td>735,139</td><td>713,910</td><td><span style=\"color: green;\">1.46%</span></td><td>0.22%</td><td>1</td></tr><tr><td>50</td><td><a href=\"/states/district-of-columbia-population\">District of Columbia</a></td><td>714,153</td><td><span style=\"color: green;\">1.80%</span></td><td>701,547</td><td>605,226</td><td><span style=\"color: green;\">18.00%</span></td><td>0.21%</td><td>11,707</td></tr><tr><td>51</td><td><a href=\"/states/vermont-population\">Vermont</a></td><td>623,251</td><td><span style=\"color: red;\">-0.18%</span></td><td>624,358</td><td>625,879</td><td><span style=\"color: red;\">-0.42%</span></td><td>0.19%</td><td>68</td></tr><tr><td>52</td><td><a href=\"/states/wyoming-population\">Wyoming</a></td><td>581,075</td><td><span style=\"color: green;\">0.60%</span></td><td>577,601</td><td>564,487</td><td><span style=\"color: green;\">2.94%</span></td><td>0.17%</td><td>6</td></tr></tbody></table>"
      ]
     },
     "execution_count": 9,
     "metadata": {},
     "output_type": "execute_result"
    }
   ],
   "source": [
    "# Use soup.find_all() to find data needed for all states.\n",
    "states = soup.find_all('table')[0]\n",
    "states"
   ]
  },
  {
   "cell_type": "code",
   "execution_count": 10,
   "metadata": {},
   "outputs": [
    {
     "data": {
      "text/plain": [
       "<tbody class=\"jsx-2642336383\"><tr><td>1</td><td><a href=\"/states/california-population\">California</a></td><td>39,613,500</td><td><span style=\"color: green;\">0.38%</span></td><td>39,461,600</td><td>37,319,500</td><td><span style=\"color: green;\">6.15%</span></td><td>11.84%</td><td>254</td></tr><tr><td>2</td><td><a href=\"/states/texas-population\">Texas</a></td><td>29,730,300</td><td><span style=\"color: green;\">3.85%</span></td><td>28,628,700</td><td>25,242,000</td><td><span style=\"color: green;\">17.78%</span></td><td>8.89%</td><td>114</td></tr><tr><td>3</td><td><a href=\"/states/florida-population\">Florida</a></td><td>21,944,600</td><td><span style=\"color: green;\">3.30%</span></td><td>21,244,300</td><td>18,845,500</td><td><span style=\"color: green;\">16.44%</span></td><td>6.56%</td><td>409</td></tr><tr><td>4</td><td><a href=\"/states/new-york-population\">New York</a></td><td>19,300,000</td><td><span style=\"color: red;\">-1.18%</span></td><td>19,530,400</td><td>19,399,900</td><td><span style=\"color: red;\">-0.51%</span></td><td>5.77%</td><td>410</td></tr><tr><td>5</td><td><a href=\"/states/pennsylvania-population\">Pennsylvania</a></td><td>12,804,100</td><td><span style=\"color: green;\">0.02%</span></td><td>12,800,900</td><td>12,711,200</td><td><span style=\"color: green;\">0.73%</span></td><td>3.83%</td><td>286</td></tr><tr><td>6</td><td><a href=\"/states/illinois-population\">Illinois</a></td><td>12,569,300</td><td><span style=\"color: red;\">-1.21%</span></td><td>12,723,100</td><td>12,840,500</td><td><span style=\"color: red;\">-2.11%</span></td><td>3.76%</td><td>226</td></tr><tr><td>7</td><td><a href=\"/states/ohio-population\">Ohio</a></td><td>11,714,600</td><td><span style=\"color: green;\">0.33%</span></td><td>11,676,300</td><td>11,539,300</td><td><span style=\"color: green;\">1.52%</span></td><td>3.50%</td><td>287</td></tr><tr><td>8</td><td><a href=\"/states/georgia-population\">Georgia</a></td><td>10,830,000</td><td><span style=\"color: green;\">3.03%</span></td><td>10,511,100</td><td>9,711,880</td><td><span style=\"color: green;\">11.51%</span></td><td>3.24%</td><td>188</td></tr><tr><td>9</td><td><a href=\"/states/north-carolina-population\">North Carolina</a></td><td>10,701,000</td><td><span style=\"color: green;\">3.08%</span></td><td>10,381,600</td><td>9,574,320</td><td><span style=\"color: green;\">11.77%</span></td><td>3.20%</td><td>220</td></tr><tr><td>10</td><td><a href=\"/states/michigan-population\">Michigan</a></td><td>9,992,430</td><td><span style=\"color: green;\">0.08%</span></td><td>9,984,070</td><td>9,877,510</td><td><span style=\"color: green;\">1.16%</span></td><td>2.99%</td><td>177</td></tr><tr><td>11</td><td><a href=\"/states/new-jersey-population\">New Jersey</a></td><td>8,874,520</td><td><span style=\"color: red;\">-0.13%</span></td><td>8,886,020</td><td>8,799,450</td><td><span style=\"color: green;\">0.85%</span></td><td>2.65%</td><td>1,207</td></tr><tr><td>12</td><td><a href=\"/states/virginia-population\">Virginia</a></td><td>8,603,980</td><td><span style=\"color: green;\">1.21%</span></td><td>8,501,290</td><td>8,023,700</td><td><span style=\"color: green;\">7.23%</span></td><td>2.57%</td><td>218</td></tr><tr><td>13</td><td><a href=\"/states/washington-population\">Washington</a></td><td>7,796,940</td><td><span style=\"color: green;\">3.63%</span></td><td>7,523,870</td><td>6,742,830</td><td><span style=\"color: green;\">15.63%</span></td><td>2.33%</td><td>117</td></tr><tr><td>14</td><td><a href=\"/states/arizona-population\">Arizona</a></td><td>7,520,100</td><td><span style=\"color: green;\">5.06%</span></td><td>7,158,020</td><td>6,407,170</td><td><span style=\"color: green;\">17.37%</span></td><td>2.25%</td><td>66</td></tr><tr><td>15</td><td><a href=\"/states/tennessee-population\">Tennessee</a></td><td>6,944,260</td><td><span style=\"color: green;\">2.55%</span></td><td>6,771,630</td><td>6,355,310</td><td><span style=\"color: green;\">9.27%</span></td><td>2.08%</td><td>168</td></tr><tr><td>16</td><td><a href=\"/states/massachusetts-population\">Massachusetts</a></td><td>6,912,240</td><td><span style=\"color: green;\">0.43%</span></td><td>6,882,640</td><td>6,566,310</td><td><span style=\"color: green;\">5.27%</span></td><td>2.07%</td><td>886</td></tr><tr><td>17</td><td><a href=\"/states/indiana-population\">Indiana</a></td><td>6,805,660</td><td><span style=\"color: green;\">1.65%</span></td><td>6,695,500</td><td>6,490,430</td><td><span style=\"color: green;\">4.86%</span></td><td>2.03%</td><td>190</td></tr><tr><td>18</td><td><a href=\"/states/missouri-population\">Missouri</a></td><td>6,169,040</td><td><span style=\"color: green;\">0.77%</span></td><td>6,121,620</td><td>5,995,970</td><td><span style=\"color: green;\">2.89%</span></td><td>1.84%</td><td>90</td></tr><tr><td>19</td><td><a href=\"/states/maryland-population\">Maryland</a></td><td>6,065,440</td><td><span style=\"color: green;\">0.49%</span></td><td>6,035,800</td><td>5,788,640</td><td><span style=\"color: green;\">4.78%</span></td><td>1.81%</td><td>625</td></tr><tr><td>20</td><td><a href=\"/states/colorado-population\">Colorado</a></td><td>5,893,630</td><td><span style=\"color: green;\">3.56%</span></td><td>5,691,290</td><td>5,047,350</td><td><span style=\"color: green;\">16.77%</span></td><td>1.76%</td><td>57</td></tr><tr><td>21</td><td><a href=\"/states/wisconsin-population\">Wisconsin</a></td><td>5,852,490</td><td><span style=\"color: green;\">0.78%</span></td><td>5,807,410</td><td>5,690,480</td><td><span style=\"color: green;\">2.85%</span></td><td>1.75%</td><td>108</td></tr><tr><td>22</td><td><a href=\"/states/minnesota-population\">Minnesota</a></td><td>5,706,400</td><td><span style=\"color: green;\">1.79%</span></td><td>5,606,250</td><td>5,310,830</td><td><span style=\"color: green;\">7.45%</span></td><td>1.71%</td><td>72</td></tr><tr><td>23</td><td><a href=\"/states/south-carolina-population\">South Carolina</a></td><td>5,277,830</td><td><span style=\"color: green;\">3.81%</span></td><td>5,084,160</td><td>4,635,650</td><td><span style=\"color: green;\">13.85%</span></td><td>1.58%</td><td>176</td></tr><tr><td>24</td><td><a href=\"/states/alabama-population\">Alabama</a></td><td>4,934,190</td><td><span style=\"color: green;\">0.95%</span></td><td>4,887,680</td><td>4,785,440</td><td><span style=\"color: green;\">3.11%</span></td><td>1.47%</td><td>97</td></tr><tr><td>25</td><td><a href=\"/states/louisiana-population\">Louisiana</a></td><td>4,627,000</td><td><span style=\"color: red;\">-0.70%</span></td><td>4,659,690</td><td>4,544,530</td><td><span style=\"color: green;\">1.81%</span></td><td>1.38%</td><td>107</td></tr><tr><td>26</td><td><a href=\"/states/kentucky-population\">Kentucky</a></td><td>4,480,710</td><td><span style=\"color: green;\">0.44%</span></td><td>4,461,150</td><td>4,348,180</td><td><span style=\"color: green;\">3.05%</span></td><td>1.34%</td><td>113</td></tr><tr><td>27</td><td><a href=\"/states/oregon-population\">Oregon</a></td><td>4,289,440</td><td><span style=\"color: green;\">2.57%</span></td><td>4,181,890</td><td>3,837,490</td><td><span style=\"color: green;\">11.78%</span></td><td>1.28%</td><td>45</td></tr><tr><td>28</td><td><a href=\"/states/oklahoma-population\">Oklahoma</a></td><td>3,990,440</td><td><span style=\"color: green;\">1.27%</span></td><td>3,940,240</td><td>3,759,940</td><td><span style=\"color: green;\">6.13%</span></td><td>1.19%</td><td>58</td></tr><tr><td>29</td><td><a href=\"/states/connecticut-population\">Connecticut</a></td><td>3,552,820</td><td><span style=\"color: red;\">-0.52%</span></td><td>3,571,520</td><td>3,579,110</td><td><span style=\"color: red;\">-0.73%</span></td><td>1.06%</td><td>734</td></tr><tr><td>30</td><td><a href=\"/states/utah-population\">Utah</a></td><td>3,310,770</td><td><span style=\"color: green;\">4.99%</span></td><td>3,153,550</td><td>2,775,330</td><td><span style=\"color: green;\">19.29%</span></td><td>0.99%</td><td>40</td></tr><tr><td>31</td><td><a href=\"/states/puerto-rico-population\">Puerto Rico</a></td><td>3,194,370</td><td><span style=\"color: green;\">0.03%</span></td><td>3,193,350</td><td>3,721,520</td><td><span style=\"color: red;\">-14.16%</span></td><td>0.95%</td><td>923</td></tr><tr><td>32</td><td><a href=\"/states/nevada-population\">Nevada</a></td><td>3,185,790</td><td><span style=\"color: green;\">5.23%</span></td><td>3,027,340</td><td>2,702,400</td><td><span style=\"color: green;\">17.89%</span></td><td>0.95%</td><td>29</td></tr><tr><td>33</td><td><a href=\"/states/iowa-population\">Iowa</a></td><td>3,167,970</td><td><span style=\"color: green;\">0.61%</span></td><td>3,148,620</td><td>3,050,740</td><td><span style=\"color: green;\">3.84%</span></td><td>0.95%</td><td>57</td></tr><tr><td>34</td><td><a href=\"/states/arkansas-population\">Arkansas</a></td><td>3,033,950</td><td><span style=\"color: green;\">0.80%</span></td><td>3,009,730</td><td>2,921,960</td><td><span style=\"color: green;\">3.83%</span></td><td>0.91%</td><td>58</td></tr><tr><td>35</td><td><a href=\"/states/mississippi-population\">Mississippi</a></td><td>2,966,410</td><td><span style=\"color: red;\">-0.49%</span></td><td>2,981,020</td><td>2,970,550</td><td><span style=\"color: red;\">-0.14%</span></td><td>0.89%</td><td>63</td></tr><tr><td>36</td><td><a href=\"/states/kansas-population\">Kansas</a></td><td>2,917,220</td><td><span style=\"color: green;\">0.20%</span></td><td>2,911,360</td><td>2,858,190</td><td><span style=\"color: green;\">2.07%</span></td><td>0.87%</td><td>36</td></tr><tr><td>37</td><td><a href=\"/states/new-mexico-population\">New Mexico</a></td><td>2,105,000</td><td><span style=\"color: green;\">0.59%</span></td><td>2,092,740</td><td>2,064,550</td><td><span style=\"color: green;\">1.96%</span></td><td>0.63%</td><td>17</td></tr><tr><td>38</td><td><a href=\"/states/nebraska-population\">Nebraska</a></td><td>1,952,000</td><td><span style=\"color: green;\">1.37%</span></td><td>1,925,610</td><td>1,829,540</td><td><span style=\"color: green;\">6.69%</span></td><td>0.58%</td><td>25</td></tr><tr><td>39</td><td><a href=\"/states/idaho-population\">Idaho</a></td><td>1,860,120</td><td><span style=\"color: green;\">6.26%</span></td><td>1,750,540</td><td>1,570,750</td><td><span style=\"color: green;\">18.42%</span></td><td>0.56%</td><td>23</td></tr><tr><td>40</td><td><a href=\"/states/west-virginia-population\">West Virginia</a></td><td>1,767,860</td><td><span style=\"color: red;\">-2.02%</span></td><td>1,804,290</td><td>1,854,240</td><td><span style=\"color: red;\">-4.66%</span></td><td>0.53%</td><td>74</td></tr><tr><td>41</td><td><a href=\"/states/hawaii-population\">Hawaii</a></td><td>1,406,430</td><td><span style=\"color: red;\">-1.00%</span></td><td>1,420,590</td><td>1,363,960</td><td><span style=\"color: green;\">3.11%</span></td><td>0.42%</td><td>219</td></tr><tr><td>42</td><td><a href=\"/states/new-hampshire-population\">New Hampshire</a></td><td>1,372,200</td><td><span style=\"color: green;\">1.38%</span></td><td>1,353,460</td><td>1,316,760</td><td><span style=\"color: green;\">4.21%</span></td><td>0.41%</td><td>153</td></tr><tr><td>43</td><td><a href=\"/states/maine-population\">Maine</a></td><td>1,354,520</td><td><span style=\"color: green;\">1.15%</span></td><td>1,339,060</td><td>1,327,630</td><td><span style=\"color: green;\">2.03%</span></td><td>0.40%</td><td>44</td></tr><tr><td>44</td><td><a href=\"/states/montana-population\">Montana</a></td><td>1,085,000</td><td><span style=\"color: green;\">2.29%</span></td><td>1,060,660</td><td>990,697</td><td><span style=\"color: green;\">9.52%</span></td><td>0.32%</td><td>7</td></tr><tr><td>45</td><td><a href=\"/states/rhode-island-population\">Rhode Island</a></td><td>1,061,510</td><td><span style=\"color: green;\">0.30%</span></td><td>1,058,290</td><td>1,053,960</td><td><span style=\"color: green;\">0.72%</span></td><td>0.32%</td><td>1,027</td></tr><tr><td>46</td><td><a href=\"/states/delaware-population\">Delaware</a></td><td>990,334</td><td><span style=\"color: green;\">2.57%</span></td><td>965,479</td><td>899,593</td><td><span style=\"color: green;\">10.09%</span></td><td>0.30%</td><td>508</td></tr><tr><td>47</td><td><a href=\"/states/south-dakota-population\">South Dakota</a></td><td>896,581</td><td><span style=\"color: green;\">2.04%</span></td><td>878,698</td><td>816,166</td><td><span style=\"color: green;\">9.85%</span></td><td>0.27%</td><td>12</td></tr><tr><td>48</td><td><a href=\"/states/north-dakota-population\">North Dakota</a></td><td>770,026</td><td><span style=\"color: green;\">1.58%</span></td><td>758,080</td><td>674,715</td><td><span style=\"color: green;\">14.13%</span></td><td>0.23%</td><td>11</td></tr><tr><td>49</td><td><a href=\"/states/alaska-population\">Alaska</a></td><td>724,357</td><td><span style=\"color: red;\">-1.47%</span></td><td>735,139</td><td>713,910</td><td><span style=\"color: green;\">1.46%</span></td><td>0.22%</td><td>1</td></tr><tr><td>50</td><td><a href=\"/states/district-of-columbia-population\">District of Columbia</a></td><td>714,153</td><td><span style=\"color: green;\">1.80%</span></td><td>701,547</td><td>605,226</td><td><span style=\"color: green;\">18.00%</span></td><td>0.21%</td><td>11,707</td></tr><tr><td>51</td><td><a href=\"/states/vermont-population\">Vermont</a></td><td>623,251</td><td><span style=\"color: red;\">-0.18%</span></td><td>624,358</td><td>625,879</td><td><span style=\"color: red;\">-0.42%</span></td><td>0.19%</td><td>68</td></tr><tr><td>52</td><td><a href=\"/states/wyoming-population\">Wyoming</a></td><td>581,075</td><td><span style=\"color: green;\">0.60%</span></td><td>577,601</td><td>564,487</td><td><span style=\"color: green;\">2.94%</span></td><td>0.17%</td><td>6</td></tr></tbody>"
      ]
     },
     "execution_count": 10,
     "metadata": {},
     "output_type": "execute_result"
    }
   ],
   "source": [
    "# Take only the 'tbody' from the 'table' content from the html, and store in the state_data variable\n",
    "state_data = states.find('tbody')\n",
    "state_data"
   ]
  },
  {
   "cell_type": "code",
   "execution_count": null,
   "metadata": {},
   "outputs": [],
   "source": []
  },
  {
   "cell_type": "markdown",
   "metadata": {},
   "source": [
    "### _Below is to create and test variables using ONE state_"
   ]
  },
  {
   "cell_type": "code",
   "execution_count": 11,
   "metadata": {},
   "outputs": [
    {
     "data": {
      "text/plain": [
       "<tr><td>1</td><td><a href=\"/states/california-population\">California</a></td><td>39,613,500</td><td><span style=\"color: green;\">0.38%</span></td><td>39,461,600</td><td>37,319,500</td><td><span style=\"color: green;\">6.15%</span></td><td>11.84%</td><td>254</td></tr>"
      ]
     },
     "execution_count": 11,
     "metadata": {},
     "output_type": "execute_result"
    }
   ],
   "source": [
    "# Find first state's data\n",
    "state_names = state_data.find_all('tr')\n",
    "state = state_names[0]\n",
    "state"
   ]
  },
  {
   "cell_type": "code",
   "execution_count": 12,
   "metadata": {},
   "outputs": [
    {
     "data": {
      "text/plain": [
       "'/states/california-population'"
      ]
     },
     "execution_count": 12,
     "metadata": {},
     "output_type": "execute_result"
    }
   ],
   "source": [
    "# Find first state's data title\n",
    "href = state.find('a')['href']\n",
    "href"
   ]
  },
  {
   "cell_type": "code",
   "execution_count": 13,
   "metadata": {},
   "outputs": [
    {
     "data": {
      "text/plain": [
       "'California'"
      ]
     },
     "execution_count": 13,
     "metadata": {},
     "output_type": "execute_result"
    }
   ],
   "source": [
    "# Find first state's name\n",
    "state_name = state.find('a').text\n",
    "state_name"
   ]
  },
  {
   "cell_type": "code",
   "execution_count": 14,
   "metadata": {},
   "outputs": [
    {
     "data": {
      "text/plain": [
       "'39,613,500'"
      ]
     },
     "execution_count": 14,
     "metadata": {},
     "output_type": "execute_result"
    }
   ],
   "source": [
    "# Find first state's population\n",
    "state_population = state.find_all('td')[2].text\n",
    "state_population"
   ]
  },
  {
   "cell_type": "code",
   "execution_count": 15,
   "metadata": {},
   "outputs": [
    {
     "data": {
      "text/plain": [
       "'0.38%'"
      ]
     },
     "execution_count": 15,
     "metadata": {},
     "output_type": "execute_result"
    }
   ],
   "source": [
    "# Find first state's population growth since previous year\n",
    "state_pop_growth = state.find_all('td')[3].text\n",
    "state_pop_growth"
   ]
  },
  {
   "cell_type": "code",
   "execution_count": 16,
   "metadata": {},
   "outputs": [
    {
     "data": {
      "text/plain": [
       "'11.84%'"
      ]
     },
     "execution_count": 16,
     "metadata": {},
     "output_type": "execute_result"
    }
   ],
   "source": [
    "# Find first state's population percentage of the United States population\n",
    "state_us_percent = state.find_all('td')[7].text\n",
    "state_us_percent"
   ]
  },
  {
   "cell_type": "code",
   "execution_count": 17,
   "metadata": {},
   "outputs": [
    {
     "data": {
      "text/plain": [
       "'254'"
      ]
     },
     "execution_count": 17,
     "metadata": {},
     "output_type": "execute_result"
    }
   ],
   "source": [
    "# Find first state's population density by p/ml2\n",
    "state_density = state.find_all('td')[8].text\n",
    "state_density"
   ]
  },
  {
   "cell_type": "code",
   "execution_count": null,
   "metadata": {},
   "outputs": [],
   "source": []
  },
  {
   "cell_type": "markdown",
   "metadata": {},
   "source": [
    "## Create a data frame to store all states data. This will be our fundamental data frame."
   ]
  },
  {
   "cell_type": "code",
   "execution_count": 18,
   "metadata": {},
   "outputs": [
    {
     "data": {
      "text/html": [
       "<div>\n",
       "<style scoped>\n",
       "    .dataframe tbody tr th:only-of-type {\n",
       "        vertical-align: middle;\n",
       "    }\n",
       "\n",
       "    .dataframe tbody tr th {\n",
       "        vertical-align: top;\n",
       "    }\n",
       "\n",
       "    .dataframe thead th {\n",
       "        text-align: right;\n",
       "    }\n",
       "</style>\n",
       "<table border=\"1\" class=\"dataframe\">\n",
       "  <thead>\n",
       "    <tr style=\"text-align: right;\">\n",
       "      <th></th>\n",
       "      <th>state_name</th>\n",
       "      <th>href</th>\n",
       "      <th>state_population</th>\n",
       "      <th>state_pop_growth</th>\n",
       "      <th>state_us_percent</th>\n",
       "      <th>state_density</th>\n",
       "    </tr>\n",
       "  </thead>\n",
       "  <tbody>\n",
       "    <tr>\n",
       "      <th>0</th>\n",
       "      <td>California</td>\n",
       "      <td>https://worldpopulationreview.com/states/calif...</td>\n",
       "      <td>39,613,500</td>\n",
       "      <td>0.38%</td>\n",
       "      <td>11.84%</td>\n",
       "      <td>254</td>\n",
       "    </tr>\n",
       "    <tr>\n",
       "      <th>1</th>\n",
       "      <td>Texas</td>\n",
       "      <td>https://worldpopulationreview.com/states/texas...</td>\n",
       "      <td>29,730,300</td>\n",
       "      <td>3.85%</td>\n",
       "      <td>8.89%</td>\n",
       "      <td>114</td>\n",
       "    </tr>\n",
       "    <tr>\n",
       "      <th>2</th>\n",
       "      <td>Florida</td>\n",
       "      <td>https://worldpopulationreview.com/states/flori...</td>\n",
       "      <td>21,944,600</td>\n",
       "      <td>3.30%</td>\n",
       "      <td>6.56%</td>\n",
       "      <td>409</td>\n",
       "    </tr>\n",
       "    <tr>\n",
       "      <th>3</th>\n",
       "      <td>New York</td>\n",
       "      <td>https://worldpopulationreview.com/states/new-y...</td>\n",
       "      <td>19,300,000</td>\n",
       "      <td>-1.18%</td>\n",
       "      <td>5.77%</td>\n",
       "      <td>410</td>\n",
       "    </tr>\n",
       "    <tr>\n",
       "      <th>4</th>\n",
       "      <td>Pennsylvania</td>\n",
       "      <td>https://worldpopulationreview.com/states/penns...</td>\n",
       "      <td>12,804,100</td>\n",
       "      <td>0.02%</td>\n",
       "      <td>3.83%</td>\n",
       "      <td>286</td>\n",
       "    </tr>\n",
       "  </tbody>\n",
       "</table>\n",
       "</div>"
      ],
      "text/plain": [
       "     state_name                                               href  \\\n",
       "0    California  https://worldpopulationreview.com/states/calif...   \n",
       "1         Texas  https://worldpopulationreview.com/states/texas...   \n",
       "2       Florida  https://worldpopulationreview.com/states/flori...   \n",
       "3      New York  https://worldpopulationreview.com/states/new-y...   \n",
       "4  Pennsylvania  https://worldpopulationreview.com/states/penns...   \n",
       "\n",
       "  state_population state_pop_growth state_us_percent state_density  \n",
       "0       39,613,500            0.38%           11.84%           254  \n",
       "1       29,730,300            3.85%            8.89%           114  \n",
       "2       21,944,600            3.30%            6.56%           409  \n",
       "3       19,300,000           -1.18%            5.77%           410  \n",
       "4       12,804,100            0.02%            3.83%           286  "
      ]
     },
     "execution_count": 18,
     "metadata": {},
     "output_type": "execute_result"
    }
   ],
   "source": [
    "# Create an empty list to store states data by row\n",
    "state_rows = []\n",
    "\n",
    "# Use a for loop to loop throuh the states:\n",
    "for state in state_names:\n",
    "    \n",
    "    # Use Beautiful Soup's find() method to navigate and retrieve attributes \n",
    "    state_name = state.find('a').text\n",
    "    href = state.find('a')['href']\n",
    "    state_population = state.find_all('td')[2].text\n",
    "    state_pop_growth = state.find_all('td')[3].text\n",
    "    state_us_percent = state.find_all('td')[7].text\n",
    "    state_density = state.find_all('td')[8].text\n",
    "    \n",
    "    # Create a dictionary to store the each state's data in a new row\n",
    "    new_row={\n",
    "        'state_name': state_name,\n",
    "        'href': f\"https://worldpopulationreview.com{href}\",\n",
    "        'state_population': state_population,\n",
    "        'state_pop_growth': state_pop_growth,\n",
    "        'state_us_percent': state_us_percent,\n",
    "        'state_density': state_density\n",
    "    }\n",
    "    \n",
    "    # Append/add in each state's data and column name to the state_rows list\n",
    "    state_rows.append(new_row)\n",
    "\n",
    "# Make the appended list to a new data frame, where all states' data are stored in here\n",
    "states_df = pd.DataFrame(state_rows)\n",
    "states_df.head()"
   ]
  },
  {
   "cell_type": "code",
   "execution_count": 19,
   "metadata": {},
   "outputs": [],
   "source": [
    "# Editing data types to integers\n",
    "states_df['state_population'] = states_df['state_population'].str.replace(r'\\D', '').astype(int)"
   ]
  },
  {
   "cell_type": "code",
   "execution_count": 20,
   "metadata": {},
   "outputs": [],
   "source": [
    "# Editing data types to integers\n",
    "states_df['state_pop_growth'] = states_df['state_pop_growth'].str.replace(r'\\D', '').astype(int)\n",
    "states_df['state_pop_growth'] = states_df['state_pop_growth'] / 10000"
   ]
  },
  {
   "cell_type": "code",
   "execution_count": 21,
   "metadata": {},
   "outputs": [],
   "source": [
    "# Editing data types to integers\n",
    "states_df['state_us_percent'] = states_df['state_us_percent'].str.replace(r'\\D', '').astype(int)\n",
    "states_df['state_us_percent'] = states_df['state_us_percent'] / 10000"
   ]
  },
  {
   "cell_type": "code",
   "execution_count": 22,
   "metadata": {},
   "outputs": [],
   "source": [
    "# Editing data types to integers\n",
    "states_df['state_density'] = states_df['state_density'].str.replace(r'\\D', '').astype(int)"
   ]
  },
  {
   "cell_type": "code",
   "execution_count": null,
   "metadata": {},
   "outputs": [],
   "source": []
  },
  {
   "cell_type": "markdown",
   "metadata": {},
   "source": [
    "### _Save the State Population Density data to a CSV file_"
   ]
  },
  {
   "cell_type": "code",
   "execution_count": 23,
   "metadata": {},
   "outputs": [],
   "source": [
    "# Drop href column for state population data csv\n",
    "states_population_data_df = states_df.drop(columns=['href'])\n",
    "states_population_data_df.to_csv('population_density.csv', index=False)"
   ]
  },
  {
   "cell_type": "code",
   "execution_count": 24,
   "metadata": {},
   "outputs": [
    {
     "data": {
      "text/plain": [
       "state_name           object\n",
       "state_population      int64\n",
       "state_pop_growth    float64\n",
       "state_us_percent    float64\n",
       "state_density         int64\n",
       "dtype: object"
      ]
     },
     "execution_count": 24,
     "metadata": {},
     "output_type": "execute_result"
    }
   ],
   "source": [
    "# Check column data types\n",
    "states_population_data_df.dtypes"
   ]
  },
  {
   "cell_type": "code",
   "execution_count": null,
   "metadata": {},
   "outputs": [],
   "source": []
  },
  {
   "cell_type": "markdown",
   "metadata": {},
   "source": [
    "## Create a data frame to store the Population by Race data in"
   ]
  },
  {
   "cell_type": "code",
   "execution_count": 25,
   "metadata": {},
   "outputs": [
    {
     "data": {
      "text/html": [
       "<div>\n",
       "<style scoped>\n",
       "    .dataframe tbody tr th:only-of-type {\n",
       "        vertical-align: middle;\n",
       "    }\n",
       "\n",
       "    .dataframe tbody tr th {\n",
       "        vertical-align: top;\n",
       "    }\n",
       "\n",
       "    .dataframe thead th {\n",
       "        text-align: right;\n",
       "    }\n",
       "</style>\n",
       "<table border=\"1\" class=\"dataframe\">\n",
       "  <thead>\n",
       "    <tr style=\"text-align: right;\">\n",
       "      <th></th>\n",
       "      <th>state_name</th>\n",
       "      <th>Race</th>\n",
       "      <th>Population</th>\n",
       "      <th>Percentage</th>\n",
       "    </tr>\n",
       "  </thead>\n",
       "  <tbody>\n",
       "    <tr>\n",
       "      <th>0</th>\n",
       "      <td>California</td>\n",
       "      <td>White</td>\n",
       "      <td>23453210.0</td>\n",
       "      <td>59.70%</td>\n",
       "    </tr>\n",
       "    <tr>\n",
       "      <th>1</th>\n",
       "      <td>California</td>\n",
       "      <td>Asian</td>\n",
       "      <td>5692422.0</td>\n",
       "      <td>14.49%</td>\n",
       "    </tr>\n",
       "    <tr>\n",
       "      <th>2</th>\n",
       "      <td>California</td>\n",
       "      <td>Some Other Race</td>\n",
       "      <td>5481789.0</td>\n",
       "      <td>13.95%</td>\n",
       "    </tr>\n",
       "    <tr>\n",
       "      <th>3</th>\n",
       "      <td>California</td>\n",
       "      <td>Black or African American</td>\n",
       "      <td>2274113.0</td>\n",
       "      <td>5.79%</td>\n",
       "    </tr>\n",
       "    <tr>\n",
       "      <th>4</th>\n",
       "      <td>California</td>\n",
       "      <td>Two or More Races</td>\n",
       "      <td>1922661.0</td>\n",
       "      <td>4.89%</td>\n",
       "    </tr>\n",
       "    <tr>\n",
       "      <th>...</th>\n",
       "      <td>...</td>\n",
       "      <td>...</td>\n",
       "      <td>...</td>\n",
       "      <td>...</td>\n",
       "    </tr>\n",
       "    <tr>\n",
       "      <th>2</th>\n",
       "      <td>Wyoming</td>\n",
       "      <td>American Indian and Alaska Native</td>\n",
       "      <td>14164.0</td>\n",
       "      <td>2.44%</td>\n",
       "    </tr>\n",
       "    <tr>\n",
       "      <th>3</th>\n",
       "      <td>Wyoming</td>\n",
       "      <td>Some Other Race</td>\n",
       "      <td>8832.0</td>\n",
       "      <td>1.52%</td>\n",
       "    </tr>\n",
       "    <tr>\n",
       "      <th>4</th>\n",
       "      <td>Wyoming</td>\n",
       "      <td>Black or African American</td>\n",
       "      <td>5582.0</td>\n",
       "      <td>0.96%</td>\n",
       "    </tr>\n",
       "    <tr>\n",
       "      <th>5</th>\n",
       "      <td>Wyoming</td>\n",
       "      <td>Asian</td>\n",
       "      <td>5025.0</td>\n",
       "      <td>0.86%</td>\n",
       "    </tr>\n",
       "    <tr>\n",
       "      <th>6</th>\n",
       "      <td>Wyoming</td>\n",
       "      <td>Native Hawaiian and Other Pacific Islander</td>\n",
       "      <td>596.0</td>\n",
       "      <td>0.10%</td>\n",
       "    </tr>\n",
       "  </tbody>\n",
       "</table>\n",
       "<p>364 rows × 4 columns</p>\n",
       "</div>"
      ],
      "text/plain": [
       "    state_name                                        Race  Population  \\\n",
       "0   California                                       White  23453210.0   \n",
       "1   California                                       Asian   5692422.0   \n",
       "2   California                             Some Other Race   5481789.0   \n",
       "3   California                   Black or African American   2274113.0   \n",
       "4   California                           Two or More Races   1922661.0   \n",
       "..         ...                                         ...         ...   \n",
       "2      Wyoming           American Indian and Alaska Native     14164.0   \n",
       "3      Wyoming                             Some Other Race      8832.0   \n",
       "4      Wyoming                   Black or African American      5582.0   \n",
       "5      Wyoming                                       Asian      5025.0   \n",
       "6      Wyoming  Native Hawaiian and Other Pacific Islander       596.0   \n",
       "\n",
       "   Percentage  \n",
       "0      59.70%  \n",
       "1      14.49%  \n",
       "2      13.95%  \n",
       "3       5.79%  \n",
       "4       4.89%  \n",
       "..        ...  \n",
       "2       2.44%  \n",
       "3       1.52%  \n",
       "4       0.96%  \n",
       "5       0.86%  \n",
       "6       0.10%  \n",
       "\n",
       "[364 rows x 4 columns]"
      ]
     },
     "execution_count": 25,
     "metadata": {},
     "output_type": "execute_result"
    }
   ],
   "source": [
    "# Create an empty data frame to store the total Population by Race data from each state's website\n",
    "population_byrace_df = pd.DataFrame({'state_name': [],'Race': [],'Population': [],'Percentage': [] })\n",
    "\n",
    "# Use a for loop to loop to loop through each state's name and href, then find the Population Race data\n",
    "for idx in range(len(states_df[['state_name', 'href']])):\n",
    "    state_name, href = states_df[['state_name', 'href']].iloc[idx]\n",
    "    tables = pd.read_html(href)\n",
    "    population_byrace_df_temp = tables[0]\n",
    "    population_byrace_df_temp['state_name'] = state_name\n",
    "    \n",
    "    # Appending/adding in each state's Population by Race data into the empty data frame\n",
    "    population_byrace_df = population_byrace_df.append(population_byrace_df_temp)\n",
    "\n",
    "population_byrace_df"
   ]
  },
  {
   "cell_type": "code",
   "execution_count": 26,
   "metadata": {},
   "outputs": [],
   "source": [
    "# Editing data types to integers\n",
    "population_byrace_df['Percentage'] = population_byrace_df['Percentage'].str.replace(r'\\D', '').astype(int)\n",
    "population_byrace_df['Percentage'] = population_byrace_df['Percentage'] / 10000"
   ]
  },
  {
   "cell_type": "markdown",
   "metadata": {},
   "source": [
    "### _Save the Population by Race data to a CSV file_"
   ]
  },
  {
   "cell_type": "code",
   "execution_count": 27,
   "metadata": {},
   "outputs": [
    {
     "data": {
      "text/html": [
       "<div>\n",
       "<style scoped>\n",
       "    .dataframe tbody tr th:only-of-type {\n",
       "        vertical-align: middle;\n",
       "    }\n",
       "\n",
       "    .dataframe tbody tr th {\n",
       "        vertical-align: top;\n",
       "    }\n",
       "\n",
       "    .dataframe thead th {\n",
       "        text-align: right;\n",
       "    }\n",
       "</style>\n",
       "<table border=\"1\" class=\"dataframe\">\n",
       "  <thead>\n",
       "    <tr style=\"text-align: right;\">\n",
       "      <th></th>\n",
       "      <th>state_name</th>\n",
       "      <th>state_pop_race</th>\n",
       "      <th>state_pop_race_count</th>\n",
       "      <th>state_pop_race_percentage</th>\n",
       "    </tr>\n",
       "  </thead>\n",
       "  <tbody>\n",
       "    <tr>\n",
       "      <th>0</th>\n",
       "      <td>California</td>\n",
       "      <td>White</td>\n",
       "      <td>23453210.0</td>\n",
       "      <td>0.5970</td>\n",
       "    </tr>\n",
       "    <tr>\n",
       "      <th>1</th>\n",
       "      <td>California</td>\n",
       "      <td>Asian</td>\n",
       "      <td>5692422.0</td>\n",
       "      <td>0.1449</td>\n",
       "    </tr>\n",
       "    <tr>\n",
       "      <th>2</th>\n",
       "      <td>California</td>\n",
       "      <td>Some Other Race</td>\n",
       "      <td>5481789.0</td>\n",
       "      <td>0.1395</td>\n",
       "    </tr>\n",
       "    <tr>\n",
       "      <th>3</th>\n",
       "      <td>California</td>\n",
       "      <td>Black or African American</td>\n",
       "      <td>2274113.0</td>\n",
       "      <td>0.0579</td>\n",
       "    </tr>\n",
       "    <tr>\n",
       "      <th>4</th>\n",
       "      <td>California</td>\n",
       "      <td>Two or More Races</td>\n",
       "      <td>1922661.0</td>\n",
       "      <td>0.0489</td>\n",
       "    </tr>\n",
       "    <tr>\n",
       "      <th>...</th>\n",
       "      <td>...</td>\n",
       "      <td>...</td>\n",
       "      <td>...</td>\n",
       "      <td>...</td>\n",
       "    </tr>\n",
       "    <tr>\n",
       "      <th>2</th>\n",
       "      <td>Wyoming</td>\n",
       "      <td>American Indian and Alaska Native</td>\n",
       "      <td>14164.0</td>\n",
       "      <td>0.0244</td>\n",
       "    </tr>\n",
       "    <tr>\n",
       "      <th>3</th>\n",
       "      <td>Wyoming</td>\n",
       "      <td>Some Other Race</td>\n",
       "      <td>8832.0</td>\n",
       "      <td>0.0152</td>\n",
       "    </tr>\n",
       "    <tr>\n",
       "      <th>4</th>\n",
       "      <td>Wyoming</td>\n",
       "      <td>Black or African American</td>\n",
       "      <td>5582.0</td>\n",
       "      <td>0.0096</td>\n",
       "    </tr>\n",
       "    <tr>\n",
       "      <th>5</th>\n",
       "      <td>Wyoming</td>\n",
       "      <td>Asian</td>\n",
       "      <td>5025.0</td>\n",
       "      <td>0.0086</td>\n",
       "    </tr>\n",
       "    <tr>\n",
       "      <th>6</th>\n",
       "      <td>Wyoming</td>\n",
       "      <td>Native Hawaiian and Other Pacific Islander</td>\n",
       "      <td>596.0</td>\n",
       "      <td>0.0010</td>\n",
       "    </tr>\n",
       "  </tbody>\n",
       "</table>\n",
       "<p>364 rows × 4 columns</p>\n",
       "</div>"
      ],
      "text/plain": [
       "    state_name                              state_pop_race  \\\n",
       "0   California                                       White   \n",
       "1   California                                       Asian   \n",
       "2   California                             Some Other Race   \n",
       "3   California                   Black or African American   \n",
       "4   California                           Two or More Races   \n",
       "..         ...                                         ...   \n",
       "2      Wyoming           American Indian and Alaska Native   \n",
       "3      Wyoming                             Some Other Race   \n",
       "4      Wyoming                   Black or African American   \n",
       "5      Wyoming                                       Asian   \n",
       "6      Wyoming  Native Hawaiian and Other Pacific Islander   \n",
       "\n",
       "    state_pop_race_count  state_pop_race_percentage  \n",
       "0             23453210.0                     0.5970  \n",
       "1              5692422.0                     0.1449  \n",
       "2              5481789.0                     0.1395  \n",
       "3              2274113.0                     0.0579  \n",
       "4              1922661.0                     0.0489  \n",
       "..                   ...                        ...  \n",
       "2                14164.0                     0.0244  \n",
       "3                 8832.0                     0.0152  \n",
       "4                 5582.0                     0.0096  \n",
       "5                 5025.0                     0.0086  \n",
       "6                  596.0                     0.0010  \n",
       "\n",
       "[364 rows x 4 columns]"
      ]
     },
     "execution_count": 27,
     "metadata": {},
     "output_type": "execute_result"
    }
   ],
   "source": [
    "# Rename columns for merge\n",
    "population_byrace_df = population_byrace_df.rename(columns = {\"Race\":\"state_pop_race\",\n",
    "                                       \"Population\":\"state_pop_race_count\",\n",
    "                                       \"Percentage\":\"state_pop_race_percentage\"})\n",
    "population_byrace_df"
   ]
  },
  {
   "cell_type": "code",
   "execution_count": 28,
   "metadata": {},
   "outputs": [],
   "source": [
    "# Create the Population by Race csv\n",
    "population_byrace_df.to_csv('population_byrace.csv', index=False)"
   ]
  },
  {
   "cell_type": "code",
   "execution_count": 29,
   "metadata": {},
   "outputs": [
    {
     "data": {
      "text/plain": [
       "state_name                    object\n",
       "state_pop_race                object\n",
       "state_pop_race_count         float64\n",
       "state_pop_race_percentage    float64\n",
       "dtype: object"
      ]
     },
     "execution_count": 29,
     "metadata": {},
     "output_type": "execute_result"
    }
   ],
   "source": [
    "# Check column data types\n",
    "population_byrace_df.dtypes"
   ]
  },
  {
   "cell_type": "code",
   "execution_count": null,
   "metadata": {},
   "outputs": [],
   "source": []
  },
  {
   "cell_type": "markdown",
   "metadata": {},
   "source": [
    "## Create a data frame to store the Educational Attainment data in"
   ]
  },
  {
   "cell_type": "code",
   "execution_count": 30,
   "metadata": {},
   "outputs": [
    {
     "data": {
      "text/html": [
       "<div>\n",
       "<style scoped>\n",
       "    .dataframe tbody tr th:only-of-type {\n",
       "        vertical-align: middle;\n",
       "    }\n",
       "\n",
       "    .dataframe tbody tr th {\n",
       "        vertical-align: top;\n",
       "    }\n",
       "\n",
       "    .dataframe thead th {\n",
       "        text-align: right;\n",
       "    }\n",
       "</style>\n",
       "<table border=\"1\" class=\"dataframe\">\n",
       "  <thead>\n",
       "    <tr style=\"text-align: right;\">\n",
       "      <th></th>\n",
       "      <th>state_name</th>\n",
       "      <th>Education Attained</th>\n",
       "      <th>Count</th>\n",
       "      <th>Percentage</th>\n",
       "    </tr>\n",
       "  </thead>\n",
       "  <tbody>\n",
       "    <tr>\n",
       "      <th>0</th>\n",
       "      <td>California</td>\n",
       "      <td>Less Than 9th Grade</td>\n",
       "      <td>2432990.0</td>\n",
       "      <td>9.19%</td>\n",
       "    </tr>\n",
       "    <tr>\n",
       "      <th>1</th>\n",
       "      <td>California</td>\n",
       "      <td>9th to 12th Grade</td>\n",
       "      <td>1985680.0</td>\n",
       "      <td>7.50%</td>\n",
       "    </tr>\n",
       "    <tr>\n",
       "      <th>2</th>\n",
       "      <td>California</td>\n",
       "      <td>High School Graduate</td>\n",
       "      <td>5423460.0</td>\n",
       "      <td>20.49%</td>\n",
       "    </tr>\n",
       "    <tr>\n",
       "      <th>3</th>\n",
       "      <td>California</td>\n",
       "      <td>Some College</td>\n",
       "      <td>5574860.0</td>\n",
       "      <td>21.06%</td>\n",
       "    </tr>\n",
       "    <tr>\n",
       "      <th>4</th>\n",
       "      <td>California</td>\n",
       "      <td>Associates Degree</td>\n",
       "      <td>2073820.0</td>\n",
       "      <td>7.83%</td>\n",
       "    </tr>\n",
       "    <tr>\n",
       "      <th>...</th>\n",
       "      <td>...</td>\n",
       "      <td>...</td>\n",
       "      <td>...</td>\n",
       "      <td>...</td>\n",
       "    </tr>\n",
       "    <tr>\n",
       "      <th>2</th>\n",
       "      <td>Wyoming</td>\n",
       "      <td>High School Graduate</td>\n",
       "      <td>113535.0</td>\n",
       "      <td>29.07%</td>\n",
       "    </tr>\n",
       "    <tr>\n",
       "      <th>3</th>\n",
       "      <td>Wyoming</td>\n",
       "      <td>Some College</td>\n",
       "      <td>99677.0</td>\n",
       "      <td>25.52%</td>\n",
       "    </tr>\n",
       "    <tr>\n",
       "      <th>4</th>\n",
       "      <td>Wyoming</td>\n",
       "      <td>Associates Degree</td>\n",
       "      <td>43761.0</td>\n",
       "      <td>11.21%</td>\n",
       "    </tr>\n",
       "    <tr>\n",
       "      <th>5</th>\n",
       "      <td>Wyoming</td>\n",
       "      <td>Bachelors Degree</td>\n",
       "      <td>68269.0</td>\n",
       "      <td>17.48%</td>\n",
       "    </tr>\n",
       "    <tr>\n",
       "      <th>6</th>\n",
       "      <td>Wyoming</td>\n",
       "      <td>Graduate Degree</td>\n",
       "      <td>38586.0</td>\n",
       "      <td>9.88%</td>\n",
       "    </tr>\n",
       "  </tbody>\n",
       "</table>\n",
       "<p>364 rows × 4 columns</p>\n",
       "</div>"
      ],
      "text/plain": [
       "    state_name    Education Attained      Count Percentage\n",
       "0   California   Less Than 9th Grade  2432990.0      9.19%\n",
       "1   California     9th to 12th Grade  1985680.0      7.50%\n",
       "2   California  High School Graduate  5423460.0     20.49%\n",
       "3   California          Some College  5574860.0     21.06%\n",
       "4   California     Associates Degree  2073820.0      7.83%\n",
       "..         ...                   ...        ...        ...\n",
       "2      Wyoming  High School Graduate   113535.0     29.07%\n",
       "3      Wyoming          Some College    99677.0     25.52%\n",
       "4      Wyoming     Associates Degree    43761.0     11.21%\n",
       "5      Wyoming      Bachelors Degree    68269.0     17.48%\n",
       "6      Wyoming       Graduate Degree    38586.0      9.88%\n",
       "\n",
       "[364 rows x 4 columns]"
      ]
     },
     "execution_count": 30,
     "metadata": {},
     "output_type": "execute_result"
    }
   ],
   "source": [
    "# Create an empty data frame to store the Educational Attainment data from each state's website\n",
    "education_attainment_df = pd.DataFrame({'state_name': [],'Education Attained': [],'Count': [], 'Percentage': []})\n",
    "\n",
    "# Use a for loop to loop to loop through each state's name and href, then find the Educational Attainment data\n",
    "for idx in range(len(states_df[['state_name', 'href']])):\n",
    "    state_name, href = states_df[['state_name', 'href']].iloc[idx]\n",
    "    tables = pd.read_html(href)\n",
    "    education_attainment_df_temp = tables[3]\n",
    "    education_attainment_df_temp['state_name'] = state_name\n",
    "    # Appending/adding in each state's Educational Attainment data into the empty data frame\n",
    "    education_attainment_df = education_attainment_df.append(education_attainment_df_temp)\n",
    "    \n",
    "education_attainment_df"
   ]
  },
  {
   "cell_type": "code",
   "execution_count": 31,
   "metadata": {},
   "outputs": [],
   "source": [
    "# Editing data types to integers\n",
    "education_attainment_df['Percentage'] = education_attainment_df['Percentage'].str.replace(r'\\D', '').astype(int)\n",
    "education_attainment_df['Percentage'] = education_attainment_df['Percentage'] / 10000"
   ]
  },
  {
   "cell_type": "markdown",
   "metadata": {},
   "source": [
    "### _Save the Educational Attainment data to a CSV file_"
   ]
  },
  {
   "cell_type": "code",
   "execution_count": 32,
   "metadata": {},
   "outputs": [
    {
     "data": {
      "text/html": [
       "<div>\n",
       "<style scoped>\n",
       "    .dataframe tbody tr th:only-of-type {\n",
       "        vertical-align: middle;\n",
       "    }\n",
       "\n",
       "    .dataframe tbody tr th {\n",
       "        vertical-align: top;\n",
       "    }\n",
       "\n",
       "    .dataframe thead th {\n",
       "        text-align: right;\n",
       "    }\n",
       "</style>\n",
       "<table border=\"1\" class=\"dataframe\">\n",
       "  <thead>\n",
       "    <tr style=\"text-align: right;\">\n",
       "      <th></th>\n",
       "      <th>state_name</th>\n",
       "      <th>state_edu_attained</th>\n",
       "      <th>state_edu_attained_count</th>\n",
       "      <th>state_edu_attained_percentage</th>\n",
       "    </tr>\n",
       "  </thead>\n",
       "  <tbody>\n",
       "    <tr>\n",
       "      <th>0</th>\n",
       "      <td>California</td>\n",
       "      <td>Less Than 9th Grade</td>\n",
       "      <td>2432990.0</td>\n",
       "      <td>0.0919</td>\n",
       "    </tr>\n",
       "    <tr>\n",
       "      <th>1</th>\n",
       "      <td>California</td>\n",
       "      <td>9th to 12th Grade</td>\n",
       "      <td>1985680.0</td>\n",
       "      <td>0.0750</td>\n",
       "    </tr>\n",
       "    <tr>\n",
       "      <th>2</th>\n",
       "      <td>California</td>\n",
       "      <td>High School Graduate</td>\n",
       "      <td>5423460.0</td>\n",
       "      <td>0.2049</td>\n",
       "    </tr>\n",
       "    <tr>\n",
       "      <th>3</th>\n",
       "      <td>California</td>\n",
       "      <td>Some College</td>\n",
       "      <td>5574860.0</td>\n",
       "      <td>0.2106</td>\n",
       "    </tr>\n",
       "    <tr>\n",
       "      <th>4</th>\n",
       "      <td>California</td>\n",
       "      <td>Associates Degree</td>\n",
       "      <td>2073820.0</td>\n",
       "      <td>0.0783</td>\n",
       "    </tr>\n",
       "    <tr>\n",
       "      <th>...</th>\n",
       "      <td>...</td>\n",
       "      <td>...</td>\n",
       "      <td>...</td>\n",
       "      <td>...</td>\n",
       "    </tr>\n",
       "    <tr>\n",
       "      <th>2</th>\n",
       "      <td>Wyoming</td>\n",
       "      <td>High School Graduate</td>\n",
       "      <td>113535.0</td>\n",
       "      <td>0.2907</td>\n",
       "    </tr>\n",
       "    <tr>\n",
       "      <th>3</th>\n",
       "      <td>Wyoming</td>\n",
       "      <td>Some College</td>\n",
       "      <td>99677.0</td>\n",
       "      <td>0.2552</td>\n",
       "    </tr>\n",
       "    <tr>\n",
       "      <th>4</th>\n",
       "      <td>Wyoming</td>\n",
       "      <td>Associates Degree</td>\n",
       "      <td>43761.0</td>\n",
       "      <td>0.1121</td>\n",
       "    </tr>\n",
       "    <tr>\n",
       "      <th>5</th>\n",
       "      <td>Wyoming</td>\n",
       "      <td>Bachelors Degree</td>\n",
       "      <td>68269.0</td>\n",
       "      <td>0.1748</td>\n",
       "    </tr>\n",
       "    <tr>\n",
       "      <th>6</th>\n",
       "      <td>Wyoming</td>\n",
       "      <td>Graduate Degree</td>\n",
       "      <td>38586.0</td>\n",
       "      <td>0.0988</td>\n",
       "    </tr>\n",
       "  </tbody>\n",
       "</table>\n",
       "<p>364 rows × 4 columns</p>\n",
       "</div>"
      ],
      "text/plain": [
       "    state_name    state_edu_attained  state_edu_attained_count  \\\n",
       "0   California   Less Than 9th Grade                 2432990.0   \n",
       "1   California     9th to 12th Grade                 1985680.0   \n",
       "2   California  High School Graduate                 5423460.0   \n",
       "3   California          Some College                 5574860.0   \n",
       "4   California     Associates Degree                 2073820.0   \n",
       "..         ...                   ...                       ...   \n",
       "2      Wyoming  High School Graduate                  113535.0   \n",
       "3      Wyoming          Some College                   99677.0   \n",
       "4      Wyoming     Associates Degree                   43761.0   \n",
       "5      Wyoming      Bachelors Degree                   68269.0   \n",
       "6      Wyoming       Graduate Degree                   38586.0   \n",
       "\n",
       "    state_edu_attained_percentage  \n",
       "0                          0.0919  \n",
       "1                          0.0750  \n",
       "2                          0.2049  \n",
       "3                          0.2106  \n",
       "4                          0.0783  \n",
       "..                            ...  \n",
       "2                          0.2907  \n",
       "3                          0.2552  \n",
       "4                          0.1121  \n",
       "5                          0.1748  \n",
       "6                          0.0988  \n",
       "\n",
       "[364 rows x 4 columns]"
      ]
     },
     "execution_count": 32,
     "metadata": {},
     "output_type": "execute_result"
    }
   ],
   "source": [
    "# Rename columns for merge\n",
    "education_attainment_df = education_attainment_df.rename(columns = {\"Education Attained\":\"state_edu_attained\",\n",
    "                                                                    \"Count\":\"state_edu_attained_count\",\n",
    "                                                                    \"Percentage\":\"state_edu_attained_percentage\"})\n",
    "education_attainment_df"
   ]
  },
  {
   "cell_type": "code",
   "execution_count": 44,
   "metadata": {},
   "outputs": [],
   "source": [
    "# Create the Educational Attainment csv\n",
    "education_attainment_df.to_csv('population_eduattain.csv', index=False)"
   ]
  },
  {
   "cell_type": "code",
   "execution_count": 45,
   "metadata": {},
   "outputs": [
    {
     "data": {
      "text/plain": [
       "state_name                        object\n",
       "state_edu_attained                object\n",
       "state_edu_attained_count         float64\n",
       "state_edu_attained_percentage    float64\n",
       "dtype: object"
      ]
     },
     "execution_count": 45,
     "metadata": {},
     "output_type": "execute_result"
    }
   ],
   "source": [
    "# Check column data types\n",
    "education_attainment_df.dtypes"
   ]
  },
  {
   "cell_type": "markdown",
   "metadata": {},
   "source": []
  },
  {
   "cell_type": "markdown",
   "metadata": {},
   "source": [
    " ## Create a data frame to store the Earnings by Educational Attainment & Sex data in"
   ]
  },
  {
   "cell_type": "code",
   "execution_count": 35,
   "metadata": {},
   "outputs": [
    {
     "data": {
      "text/html": [
       "<div>\n",
       "<style scoped>\n",
       "    .dataframe tbody tr th:only-of-type {\n",
       "        vertical-align: middle;\n",
       "    }\n",
       "\n",
       "    .dataframe tbody tr th {\n",
       "        vertical-align: top;\n",
       "    }\n",
       "\n",
       "    .dataframe thead th {\n",
       "        text-align: right;\n",
       "    }\n",
       "</style>\n",
       "<table border=\"1\" class=\"dataframe\">\n",
       "  <thead>\n",
       "    <tr style=\"text-align: right;\">\n",
       "      <th></th>\n",
       "      <th>state_name</th>\n",
       "      <th>Name</th>\n",
       "      <th>Average</th>\n",
       "      <th>Male</th>\n",
       "      <th>Female</th>\n",
       "    </tr>\n",
       "  </thead>\n",
       "  <tbody>\n",
       "    <tr>\n",
       "      <th>0</th>\n",
       "      <td>California</td>\n",
       "      <td>Overall</td>\n",
       "      <td>$42,682</td>\n",
       "      <td>$48,996</td>\n",
       "      <td>$36,685</td>\n",
       "    </tr>\n",
       "    <tr>\n",
       "      <th>1</th>\n",
       "      <td>California</td>\n",
       "      <td>Less Than High School</td>\n",
       "      <td>$23,760</td>\n",
       "      <td>$27,427</td>\n",
       "      <td>$18,080</td>\n",
       "    </tr>\n",
       "    <tr>\n",
       "      <th>2</th>\n",
       "      <td>California</td>\n",
       "      <td>High School Grad</td>\n",
       "      <td>$31,674</td>\n",
       "      <td>$37,077</td>\n",
       "      <td>$26,148</td>\n",
       "    </tr>\n",
       "    <tr>\n",
       "      <th>3</th>\n",
       "      <td>California</td>\n",
       "      <td>Some College</td>\n",
       "      <td>$39,907</td>\n",
       "      <td>$47,112</td>\n",
       "      <td>$32,818</td>\n",
       "    </tr>\n",
       "    <tr>\n",
       "      <th>4</th>\n",
       "      <td>California</td>\n",
       "      <td>Bachelors Degree</td>\n",
       "      <td>$63,230</td>\n",
       "      <td>$75,794</td>\n",
       "      <td>$53,357</td>\n",
       "    </tr>\n",
       "    <tr>\n",
       "      <th>...</th>\n",
       "      <td>...</td>\n",
       "      <td>...</td>\n",
       "      <td>...</td>\n",
       "      <td>...</td>\n",
       "      <td>...</td>\n",
       "    </tr>\n",
       "    <tr>\n",
       "      <th>1</th>\n",
       "      <td>Wyoming</td>\n",
       "      <td>Less Than High School</td>\n",
       "      <td>$26,671</td>\n",
       "      <td>$32,896</td>\n",
       "      <td>$18,191</td>\n",
       "    </tr>\n",
       "    <tr>\n",
       "      <th>2</th>\n",
       "      <td>Wyoming</td>\n",
       "      <td>High School Grad</td>\n",
       "      <td>$34,778</td>\n",
       "      <td>$47,373</td>\n",
       "      <td>$23,504</td>\n",
       "    </tr>\n",
       "    <tr>\n",
       "      <th>3</th>\n",
       "      <td>Wyoming</td>\n",
       "      <td>Some College</td>\n",
       "      <td>$37,699</td>\n",
       "      <td>$51,439</td>\n",
       "      <td>$28,739</td>\n",
       "    </tr>\n",
       "    <tr>\n",
       "      <th>4</th>\n",
       "      <td>Wyoming</td>\n",
       "      <td>Bachelors Degree</td>\n",
       "      <td>$49,141</td>\n",
       "      <td>$55,557</td>\n",
       "      <td>$43,077</td>\n",
       "    </tr>\n",
       "    <tr>\n",
       "      <th>5</th>\n",
       "      <td>Wyoming</td>\n",
       "      <td>Graduate Degree</td>\n",
       "      <td>$62,430</td>\n",
       "      <td>$68,893</td>\n",
       "      <td>$57,694</td>\n",
       "    </tr>\n",
       "  </tbody>\n",
       "</table>\n",
       "<p>312 rows × 5 columns</p>\n",
       "</div>"
      ],
      "text/plain": [
       "    state_name                   Name  Average     Male   Female\n",
       "0   California                Overall  $42,682  $48,996  $36,685\n",
       "1   California  Less Than High School  $23,760  $27,427  $18,080\n",
       "2   California       High School Grad  $31,674  $37,077  $26,148\n",
       "3   California           Some College  $39,907  $47,112  $32,818\n",
       "4   California       Bachelors Degree  $63,230  $75,794  $53,357\n",
       "..         ...                    ...      ...      ...      ...\n",
       "1      Wyoming  Less Than High School  $26,671  $32,896  $18,191\n",
       "2      Wyoming       High School Grad  $34,778  $47,373  $23,504\n",
       "3      Wyoming           Some College  $37,699  $51,439  $28,739\n",
       "4      Wyoming       Bachelors Degree  $49,141  $55,557  $43,077\n",
       "5      Wyoming        Graduate Degree  $62,430  $68,893  $57,694\n",
       "\n",
       "[312 rows x 5 columns]"
      ]
     },
     "execution_count": 35,
     "metadata": {},
     "output_type": "execute_result"
    }
   ],
   "source": [
    "# Create an empty data frame to store the Earnings by Educational Attainment % Sex data from each state's website\n",
    "earnings_df = pd.DataFrame({'state_name': []})\n",
    "\n",
    "# Use a for loop to loop to loop through each state's name and href, then find the Earnings data\n",
    "for idx in range(len(states_df[['state_name', 'href']])):\n",
    "    state_name, href = states_df[['state_name', 'href']].iloc[idx]\n",
    "    tables = pd.read_html(href)\n",
    "    earnings_df_temp = tables[5]\n",
    "    earnings_df_temp['state_name'] = state_name\n",
    "    # Appending/adding in each state's Earnings data into the empty data frame\n",
    "    earnings_df = earnings_df.append(earnings_df_temp)\n",
    "    \n",
    "earnings_df"
   ]
  },
  {
   "cell_type": "code",
   "execution_count": 36,
   "metadata": {},
   "outputs": [],
   "source": [
    "# Editing data types to integers\n",
    "earnings_df['Average'] = earnings_df['Average'].str.replace(r'\\D', '').astype(int)"
   ]
  },
  {
   "cell_type": "code",
   "execution_count": 37,
   "metadata": {},
   "outputs": [],
   "source": [
    "# Editing data types to integers\n",
    "earnings_df['Male'] = earnings_df['Male'].str.replace(r'\\D', '').astype(int)"
   ]
  },
  {
   "cell_type": "code",
   "execution_count": 38,
   "metadata": {},
   "outputs": [],
   "source": [
    "# Editing data types to integers\n",
    "earnings_df['Female'] = earnings_df['Female'].str.replace(r'\\D', '').astype(int)"
   ]
  },
  {
   "cell_type": "markdown",
   "metadata": {},
   "source": [
    "### _Save the Earnings data to a CSV file_"
   ]
  },
  {
   "cell_type": "code",
   "execution_count": 39,
   "metadata": {},
   "outputs": [
    {
     "data": {
      "text/html": [
       "<div>\n",
       "<style scoped>\n",
       "    .dataframe tbody tr th:only-of-type {\n",
       "        vertical-align: middle;\n",
       "    }\n",
       "\n",
       "    .dataframe tbody tr th {\n",
       "        vertical-align: top;\n",
       "    }\n",
       "\n",
       "    .dataframe thead th {\n",
       "        text-align: right;\n",
       "    }\n",
       "</style>\n",
       "<table border=\"1\" class=\"dataframe\">\n",
       "  <thead>\n",
       "    <tr style=\"text-align: right;\">\n",
       "      <th></th>\n",
       "      <th>state_name</th>\n",
       "      <th>state_earning_edu</th>\n",
       "      <th>state_earning_average</th>\n",
       "      <th>state_earning_male</th>\n",
       "      <th>state_earning_female</th>\n",
       "    </tr>\n",
       "  </thead>\n",
       "  <tbody>\n",
       "    <tr>\n",
       "      <th>0</th>\n",
       "      <td>California</td>\n",
       "      <td>Overall</td>\n",
       "      <td>42682</td>\n",
       "      <td>48996</td>\n",
       "      <td>36685</td>\n",
       "    </tr>\n",
       "    <tr>\n",
       "      <th>1</th>\n",
       "      <td>California</td>\n",
       "      <td>Less Than High School</td>\n",
       "      <td>23760</td>\n",
       "      <td>27427</td>\n",
       "      <td>18080</td>\n",
       "    </tr>\n",
       "    <tr>\n",
       "      <th>2</th>\n",
       "      <td>California</td>\n",
       "      <td>High School Grad</td>\n",
       "      <td>31674</td>\n",
       "      <td>37077</td>\n",
       "      <td>26148</td>\n",
       "    </tr>\n",
       "    <tr>\n",
       "      <th>3</th>\n",
       "      <td>California</td>\n",
       "      <td>Some College</td>\n",
       "      <td>39907</td>\n",
       "      <td>47112</td>\n",
       "      <td>32818</td>\n",
       "    </tr>\n",
       "    <tr>\n",
       "      <th>4</th>\n",
       "      <td>California</td>\n",
       "      <td>Bachelors Degree</td>\n",
       "      <td>63230</td>\n",
       "      <td>75794</td>\n",
       "      <td>53357</td>\n",
       "    </tr>\n",
       "    <tr>\n",
       "      <th>...</th>\n",
       "      <td>...</td>\n",
       "      <td>...</td>\n",
       "      <td>...</td>\n",
       "      <td>...</td>\n",
       "      <td>...</td>\n",
       "    </tr>\n",
       "    <tr>\n",
       "      <th>1</th>\n",
       "      <td>Wyoming</td>\n",
       "      <td>Less Than High School</td>\n",
       "      <td>26671</td>\n",
       "      <td>32896</td>\n",
       "      <td>18191</td>\n",
       "    </tr>\n",
       "    <tr>\n",
       "      <th>2</th>\n",
       "      <td>Wyoming</td>\n",
       "      <td>High School Grad</td>\n",
       "      <td>34778</td>\n",
       "      <td>47373</td>\n",
       "      <td>23504</td>\n",
       "    </tr>\n",
       "    <tr>\n",
       "      <th>3</th>\n",
       "      <td>Wyoming</td>\n",
       "      <td>Some College</td>\n",
       "      <td>37699</td>\n",
       "      <td>51439</td>\n",
       "      <td>28739</td>\n",
       "    </tr>\n",
       "    <tr>\n",
       "      <th>4</th>\n",
       "      <td>Wyoming</td>\n",
       "      <td>Bachelors Degree</td>\n",
       "      <td>49141</td>\n",
       "      <td>55557</td>\n",
       "      <td>43077</td>\n",
       "    </tr>\n",
       "    <tr>\n",
       "      <th>5</th>\n",
       "      <td>Wyoming</td>\n",
       "      <td>Graduate Degree</td>\n",
       "      <td>62430</td>\n",
       "      <td>68893</td>\n",
       "      <td>57694</td>\n",
       "    </tr>\n",
       "  </tbody>\n",
       "</table>\n",
       "<p>312 rows × 5 columns</p>\n",
       "</div>"
      ],
      "text/plain": [
       "    state_name      state_earning_edu  state_earning_average  \\\n",
       "0   California                Overall                  42682   \n",
       "1   California  Less Than High School                  23760   \n",
       "2   California       High School Grad                  31674   \n",
       "3   California           Some College                  39907   \n",
       "4   California       Bachelors Degree                  63230   \n",
       "..         ...                    ...                    ...   \n",
       "1      Wyoming  Less Than High School                  26671   \n",
       "2      Wyoming       High School Grad                  34778   \n",
       "3      Wyoming           Some College                  37699   \n",
       "4      Wyoming       Bachelors Degree                  49141   \n",
       "5      Wyoming        Graduate Degree                  62430   \n",
       "\n",
       "    state_earning_male  state_earning_female  \n",
       "0                48996                 36685  \n",
       "1                27427                 18080  \n",
       "2                37077                 26148  \n",
       "3                47112                 32818  \n",
       "4                75794                 53357  \n",
       "..                 ...                   ...  \n",
       "1                32896                 18191  \n",
       "2                47373                 23504  \n",
       "3                51439                 28739  \n",
       "4                55557                 43077  \n",
       "5                68893                 57694  \n",
       "\n",
       "[312 rows x 5 columns]"
      ]
     },
     "execution_count": 39,
     "metadata": {},
     "output_type": "execute_result"
    }
   ],
   "source": [
    "# Rename columns for merge\n",
    "earnings_df = earnings_df.rename(columns = {\"Name\":\"state_earning_edu\",\n",
    "                                            \"Average\":\"state_earning_average\",\n",
    "                                            \"Male\":\"state_earning_male\",\n",
    "                                            \"Female\":\"state_earning_female\"})\n",
    "earnings_df"
   ]
  },
  {
   "cell_type": "code",
   "execution_count": 42,
   "metadata": {},
   "outputs": [],
   "source": [
    "# Create the Earnings csv\n",
    "earnings_df.to_csv('population_earnings.csv', index=False)"
   ]
  },
  {
   "cell_type": "code",
   "execution_count": 43,
   "metadata": {},
   "outputs": [
    {
     "data": {
      "text/plain": [
       "state_name               object\n",
       "state_earning_edu        object\n",
       "state_earning_average     int64\n",
       "state_earning_male        int64\n",
       "state_earning_female      int64\n",
       "dtype: object"
      ]
     },
     "execution_count": 43,
     "metadata": {},
     "output_type": "execute_result"
    }
   ],
   "source": [
    "# Check column data types\n",
    "earnings_df.dtypes"
   ]
  },
  {
   "cell_type": "code",
   "execution_count": null,
   "metadata": {},
   "outputs": [],
   "source": []
  }
 ],
 "metadata": {
  "kernelspec": {
   "display_name": "Python 3",
   "language": "python",
   "name": "python3"
  },
  "language_info": {
   "codemirror_mode": {
    "name": "ipython",
    "version": 3
   },
   "file_extension": ".py",
   "mimetype": "text/x-python",
   "name": "python",
   "nbconvert_exporter": "python",
   "pygments_lexer": "ipython3",
   "version": "3.8.5"
  }
 },
 "nbformat": 4,
 "nbformat_minor": 4
}
