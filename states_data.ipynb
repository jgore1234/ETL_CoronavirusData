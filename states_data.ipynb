{
 "cells": [
  {
   "cell_type": "markdown",
   "metadata": {},
   "source": [
    "# Demographic Data for All States in the U.S."
   ]
  },
  {
   "cell_type": "code",
   "execution_count": 8,
   "metadata": {},
   "outputs": [],
   "source": [
    "# Scrapes the site WorldoMeters for coronavirus data and dumps it into a dataframe\n",
    "import pandas as pd\n",
    "from bs4 import BeautifulSoup\n",
    "import requests\n",
    "import re\n",
    "from webdriver_manager.chrome import ChromeDriverManager\n",
    "from splinter import Browser"
   ]
  },
  {
   "cell_type": "code",
   "execution_count": 10,
   "metadata": {},
   "outputs": [
    {
     "name": "stderr",
     "output_type": "stream",
     "text": [
      "[WDM] - ====== WebDriver manager ======\n",
      "[WDM] - Current google-chrome version is 88.0.4324\n",
      "[WDM] - Get LATEST driver version for 88.0.4324\n",
      "[WDM] - Driver [C:\\Users\\grace\\.wdm\\drivers\\chromedriver\\win32\\88.0.4324.96\\chromedriver.exe] found in cache\n"
     ]
    },
    {
     "name": "stdout",
     "output_type": "stream",
     "text": [
      "\n",
      "\n"
     ]
    }
   ],
   "source": [
    "# Setup splinter\n",
    "executable_path = {'executable_path': ChromeDriverManager().install()}\n",
    "browser = Browser('chrome', **executable_path, headless=False) # headless=True hides the chrome window pop-up"
   ]
  },
  {
   "cell_type": "code",
   "execution_count": 24,
   "metadata": {},
   "outputs": [],
   "source": [
    "# Set up the necessary variables\n",
    "\n",
    "url = 'https://worldpopulationreview.com/state-rankings/number-of-registered-voters-by-state'\n",
    "\n",
    "browser.visit(url)\n",
    "\n",
    "html = browser.html\n",
    "\n",
    "soup = BeautifulSoup(html, 'html.parser')"
   ]
  },
  {
   "cell_type": "code",
   "execution_count": 70,
   "metadata": {
    "collapsed": true,
    "jupyter": {
     "outputs_hidden": true
    }
   },
   "outputs": [
    {
     "data": {
      "text/plain": [
       "<table class=\"jsx-1487038798 table table-striped tp-table-body\"><thead class=\"jsx-2642336383\" style=\"font-weight: bold;\"><tr class=\"jsx-2642336383\"><th class=\"jsx-2816426159\"><span class=\"jsx-2816426159\"><a class=\"jsx-2816426159\" data-field=\"State\" style=\"color: black; cursor: pointer; display: inline-block;\">State  </a></span></th><th class=\"jsx-2816426159\"><span class=\"jsx-2816426159\"><a class=\"jsx-2816426159\" data-field=\"totalRegistered\" style=\"color: black; cursor: pointer; display: inline-block;\">Number of Registered Voters  </a></span></th><th class=\"jsx-2816426159\"><span class=\"jsx-2816426159\"><a class=\"jsx-2816426159\" data-field=\"Pop\" style=\"color: black; cursor: pointer; display: inline-block;\">2021 Pop.  </a></span></th><th class=\"jsx-2816426159\"><span class=\"jsx-2816426159\"><a class=\"jsx-2816426159\" data-field=\"registeredPerc\" style=\"color: black; cursor: pointer; display: inline-block;\">% Registered  </a></span></th><th class=\"jsx-2816426159\"><span class=\"jsx-2816426159\"><a class=\"jsx-2816426159\" data-field=\"asOf\" style=\"color: black; cursor: pointer; display: inline-block; padding-right: 12px;\">As Of  </a></span></th></tr></thead><tbody class=\"jsx-2642336383\"><tr><td><a href=\"/states/alabama-population\">Alabama</a></td><td>3,708,804</td><td>4,934,190</td><td>75.17%</td><td>11/4/2020</td></tr><tr><td><a href=\"/states/alaska-population\">Alaska</a></td><td>597,319</td><td>724,357</td><td>82.46%</td><td>11/3/2020</td></tr><tr><td><a href=\"/states/arizona-population\">Arizona</a></td><td>4,281,152</td><td>7,520,100</td><td>56.93%</td><td>11/4/2020</td></tr><tr><td><a href=\"/states/arkansas-population\">Arkansas</a></td><td>1,755,775</td><td>3,033,950</td><td>57.87%</td><td>6/3/2020</td></tr><tr><td><a href=\"/states/california-population\">California</a></td><td>22,047,448</td><td>39,613,500</td><td>55.66%</td><td>10/19/2020</td></tr><tr><td><a href=\"/states/colorado-population\">Colorado</a></td><td>4,238,513</td><td>5,893,630</td><td>71.92%</td><td>11/1/2020</td></tr><tr><td><a href=\"/states/connecticut-population\">Connecticut</a></td><td>2,375,537</td><td>3,552,820</td><td>66.86%</td><td>10/29/2019</td></tr><tr><td><a href=\"/states/delaware-population\">Delaware</a></td><td>738,563</td><td>990,334</td><td>74.58%</td><td>11/1/2020</td></tr><tr><td><a href=\"/states/florida-population\">Florida</a></td><td>14,065,627</td><td>21,944,600</td><td>64.10%</td><td>8/31/2020</td></tr><tr><td><a href=\"/states/georgia-population\">Georgia</a></td><td>7,233,584</td><td>10,830,000</td><td>66.79%</td><td>11/1/2020</td></tr><tr><td><a href=\"/states/hawaii-population\">Hawaii</a></td><td>830,000</td><td>1,406,430</td><td>59.01%</td><td>10/29/2020</td></tr><tr><td><a href=\"/states/idaho-population\">Idaho</a></td><td>1,010,984</td><td>1,860,120</td><td>54.35%</td><td>11/2/2020</td></tr><tr><td><a href=\"/states/illinois-population\">Illinois</a></td><td>8,036,534</td><td>12,569,300</td><td>63.94%</td><td>3/17/2020</td></tr><tr><td><a href=\"/states/indiana-population\">Indiana</a></td><td>4,585,024</td><td>6,805,660</td><td>67.37%</td><td>6/2/2020</td></tr><tr><td><a href=\"/states/iowa-population\">Iowa</a></td><td>2,245,096</td><td>3,167,970</td><td>70.87%</td><td>11/2/2020</td></tr><tr><td><a href=\"/states/kansas-population\">Kansas</a></td><td>1,851,397</td><td>2,917,220</td><td>63.46%</td><td>7/1/2020</td></tr><tr><td><a href=\"/states/kentucky-population\">Kentucky</a></td><td>3,565,428</td><td>4,480,710</td><td>79.57%</td><td>10/10/2020</td></tr><tr><td><a href=\"/states/louisiana-population\">Louisiana</a></td><td>3,091,340</td><td>4,627,000</td><td>66.81%</td><td>11/1/2020</td></tr><tr><td><a href=\"/states/maine-population\">Maine</a></td><td>1,063,383</td><td>1,354,520</td><td>78.51%</td><td>8/3/2020</td></tr><tr><td><a href=\"/states/maryland-population\">Maryland</a></td><td>4,141,498</td><td>6,065,440</td><td>68.28%</td><td>10/13/2020</td></tr><tr><td><a href=\"/states/massachusetts-population\">Massachusetts</a></td><td>4,812,909</td><td>6,912,240</td><td>69.63%</td><td>10/24/2020</td></tr><tr><td><a href=\"/states/michigan-population\">Michigan</a></td><td>8,127,040</td><td>9,992,430</td><td>81.33%</td><td>11/3/2020</td></tr><tr><td><a href=\"/states/minnesota-population\">Minnesota</a></td><td>3,588,563</td><td>5,706,400</td><td>62.89%</td><td>11/2/2020</td></tr><tr><td><a href=\"/states/mississippi-population\">Mississippi</a></td><td>1,985,928</td><td>2,966,410</td><td>66.95%</td><td>11/3/2020</td></tr><tr><td><a href=\"/states/missouri-population\">Missouri</a></td><td>4,213,092</td><td>6,169,040</td><td>68.29%</td><td>11/1/2018</td></tr><tr><td><a href=\"/states/montana-population\">Montana</a></td><td>696,292</td><td>1,085,000</td><td>64.17%</td><td>3/1/2020</td></tr><tr><td><a href=\"/states/nebraska-population\">Nebraska</a></td><td>1,252,089</td><td>1,952,000</td><td>64.14%</td><td>10/1/2020</td></tr><tr><td><a href=\"/states/nevada-population\">Nevada</a></td><td>1,821,356</td><td>3,185,790</td><td>57.17%</td><td>11/2/2020</td></tr><tr><td><a href=\"/states/new-hampshire-population\">New Hampshire</a></td><td>998,537</td><td>1,372,200</td><td>72.77%</td><td>10/21/2020</td></tr><tr><td><a href=\"/states/new-jersey-population\">New Jersey</a></td><td>6,486,299</td><td>8,874,520</td><td>73.09%</td><td>11/2/2020</td></tr><tr><td><a href=\"/states/new-mexico-population\">New Mexico</a></td><td>1,350,181</td><td>2,105,000</td><td>64.14%</td><td>10/30/2020</td></tr><tr><td><a href=\"/states/new-york-population\">New York</a></td><td>13,555,547</td><td>19,300,000</td><td>70.24%</td><td>11/1/2020</td></tr><tr><td><a href=\"/states/north-carolina-population\">North Carolina</a></td><td>7,361,219</td><td>10,701,000</td><td>68.79%</td><td>11/3/2020</td></tr><tr><td><a href=\"/states/north-dakota-population\">North Dakota</a></td><td>581,379</td><td>770,026</td><td>75.50%</td><td>3/1/2020</td></tr><tr><td><a href=\"/states/ohio-population\">Ohio</a></td><td>7,774,767</td><td>11,714,600</td><td>66.37%</td><td>3/17/2020</td></tr><tr><td><a href=\"/states/oklahoma-population\">Oklahoma</a></td><td>2,259,113</td><td>3,990,440</td><td>56.61%</td><td>11/1/2020</td></tr><tr><td><a href=\"/states/oregon-population\">Oregon</a></td><td>2,924,292</td><td>4,289,440</td><td>68.17%</td><td>10/7/2020</td></tr><tr><td><a href=\"/states/pennsylvania-population\">Pennsylvania</a></td><td>9,091,371</td><td>12,804,100</td><td>71.00%</td><td>11/2/2020</td></tr><tr><td><a href=\"/states/rhode-island-population\">Rhode Island</a></td><td>809,821</td><td>1,061,510</td><td>76.29%</td><td>11/3/2020</td></tr><tr><td><a href=\"/states/south-carolina-population\">South Carolina</a></td><td>3,513,225</td><td>5,277,830</td><td>66.57%</td><td>11/3/2020</td></tr><tr><td><a href=\"/states/south-dakota-population\">South Dakota</a></td><td>578,666</td><td>896,581</td><td>64.54%</td><td>11/3/2020</td></tr><tr><td><a href=\"/states/tennessee-population\">Tennessee</a></td><td>3,931,248</td><td>6,944,260</td><td>56.61%</td><td>6/1/2020</td></tr><tr><td><a href=\"/states/texas-population\">Texas</a></td><td>16,211,198</td><td>29,730,300</td><td>54.53%</td><td>3/1/2020</td></tr><tr><td><a href=\"/states/utah-population\">Utah</a></td><td>1,857,861</td><td>3,310,770</td><td>56.12%</td><td>11/3/2020</td></tr><tr><td><a href=\"/states/vermont-population\">Vermont</a></td><td>495,267</td><td>623,251</td><td>79.47%</td><td>9/1/2020</td></tr><tr><td><a href=\"/states/virginia-population\">Virginia</a></td><td>5,975,696</td><td>8,603,980</td><td>69.45%</td><td>11/1/2020</td></tr><tr><td><a href=\"/states/washington-population\">Washington</a></td><td>4,861,482</td><td>7,796,940</td><td>62.35%</td><td>10/27/2020</td></tr><tr><td><a href=\"/states/west-virginia-population\">West Virginia</a></td><td>1,268,460</td><td>1,767,860</td><td>71.75%</td><td>10/13/2020</td></tr><tr><td><a href=\"/states/wisconsin-population\">Wisconsin</a></td><td>3,684,726</td><td>5,852,490</td><td>62.96%</td><td>11/1/2020</td></tr><tr><td><a href=\"/states/wyoming-population\">Wyoming</a></td><td>268,837</td><td>581,075</td><td>46.27%</td><td>11/3/2020</td></tr></tbody></table>"
      ]
     },
     "execution_count": 70,
     "metadata": {},
     "output_type": "execute_result"
    }
   ],
   "source": [
    "# Use soup.find_all() to find data needed for all states.\n",
    "states = soup.find_all('table')[0]\n",
    "states"
   ]
  },
  {
   "cell_type": "code",
   "execution_count": 96,
   "metadata": {
    "collapsed": true,
    "jupyter": {
     "outputs_hidden": true
    }
   },
   "outputs": [
    {
     "data": {
      "text/plain": [
       "<tbody class=\"jsx-2642336383\"><tr><td><a href=\"/states/alabama-population\">Alabama</a></td><td>3,708,804</td><td>4,934,190</td><td>75.17%</td><td>11/4/2020</td></tr><tr><td><a href=\"/states/alaska-population\">Alaska</a></td><td>597,319</td><td>724,357</td><td>82.46%</td><td>11/3/2020</td></tr><tr><td><a href=\"/states/arizona-population\">Arizona</a></td><td>4,281,152</td><td>7,520,100</td><td>56.93%</td><td>11/4/2020</td></tr><tr><td><a href=\"/states/arkansas-population\">Arkansas</a></td><td>1,755,775</td><td>3,033,950</td><td>57.87%</td><td>6/3/2020</td></tr><tr><td><a href=\"/states/california-population\">California</a></td><td>22,047,448</td><td>39,613,500</td><td>55.66%</td><td>10/19/2020</td></tr><tr><td><a href=\"/states/colorado-population\">Colorado</a></td><td>4,238,513</td><td>5,893,630</td><td>71.92%</td><td>11/1/2020</td></tr><tr><td><a href=\"/states/connecticut-population\">Connecticut</a></td><td>2,375,537</td><td>3,552,820</td><td>66.86%</td><td>10/29/2019</td></tr><tr><td><a href=\"/states/delaware-population\">Delaware</a></td><td>738,563</td><td>990,334</td><td>74.58%</td><td>11/1/2020</td></tr><tr><td><a href=\"/states/florida-population\">Florida</a></td><td>14,065,627</td><td>21,944,600</td><td>64.10%</td><td>8/31/2020</td></tr><tr><td><a href=\"/states/georgia-population\">Georgia</a></td><td>7,233,584</td><td>10,830,000</td><td>66.79%</td><td>11/1/2020</td></tr><tr><td><a href=\"/states/hawaii-population\">Hawaii</a></td><td>830,000</td><td>1,406,430</td><td>59.01%</td><td>10/29/2020</td></tr><tr><td><a href=\"/states/idaho-population\">Idaho</a></td><td>1,010,984</td><td>1,860,120</td><td>54.35%</td><td>11/2/2020</td></tr><tr><td><a href=\"/states/illinois-population\">Illinois</a></td><td>8,036,534</td><td>12,569,300</td><td>63.94%</td><td>3/17/2020</td></tr><tr><td><a href=\"/states/indiana-population\">Indiana</a></td><td>4,585,024</td><td>6,805,660</td><td>67.37%</td><td>6/2/2020</td></tr><tr><td><a href=\"/states/iowa-population\">Iowa</a></td><td>2,245,096</td><td>3,167,970</td><td>70.87%</td><td>11/2/2020</td></tr><tr><td><a href=\"/states/kansas-population\">Kansas</a></td><td>1,851,397</td><td>2,917,220</td><td>63.46%</td><td>7/1/2020</td></tr><tr><td><a href=\"/states/kentucky-population\">Kentucky</a></td><td>3,565,428</td><td>4,480,710</td><td>79.57%</td><td>10/10/2020</td></tr><tr><td><a href=\"/states/louisiana-population\">Louisiana</a></td><td>3,091,340</td><td>4,627,000</td><td>66.81%</td><td>11/1/2020</td></tr><tr><td><a href=\"/states/maine-population\">Maine</a></td><td>1,063,383</td><td>1,354,520</td><td>78.51%</td><td>8/3/2020</td></tr><tr><td><a href=\"/states/maryland-population\">Maryland</a></td><td>4,141,498</td><td>6,065,440</td><td>68.28%</td><td>10/13/2020</td></tr><tr><td><a href=\"/states/massachusetts-population\">Massachusetts</a></td><td>4,812,909</td><td>6,912,240</td><td>69.63%</td><td>10/24/2020</td></tr><tr><td><a href=\"/states/michigan-population\">Michigan</a></td><td>8,127,040</td><td>9,992,430</td><td>81.33%</td><td>11/3/2020</td></tr><tr><td><a href=\"/states/minnesota-population\">Minnesota</a></td><td>3,588,563</td><td>5,706,400</td><td>62.89%</td><td>11/2/2020</td></tr><tr><td><a href=\"/states/mississippi-population\">Mississippi</a></td><td>1,985,928</td><td>2,966,410</td><td>66.95%</td><td>11/3/2020</td></tr><tr><td><a href=\"/states/missouri-population\">Missouri</a></td><td>4,213,092</td><td>6,169,040</td><td>68.29%</td><td>11/1/2018</td></tr><tr><td><a href=\"/states/montana-population\">Montana</a></td><td>696,292</td><td>1,085,000</td><td>64.17%</td><td>3/1/2020</td></tr><tr><td><a href=\"/states/nebraska-population\">Nebraska</a></td><td>1,252,089</td><td>1,952,000</td><td>64.14%</td><td>10/1/2020</td></tr><tr><td><a href=\"/states/nevada-population\">Nevada</a></td><td>1,821,356</td><td>3,185,790</td><td>57.17%</td><td>11/2/2020</td></tr><tr><td><a href=\"/states/new-hampshire-population\">New Hampshire</a></td><td>998,537</td><td>1,372,200</td><td>72.77%</td><td>10/21/2020</td></tr><tr><td><a href=\"/states/new-jersey-population\">New Jersey</a></td><td>6,486,299</td><td>8,874,520</td><td>73.09%</td><td>11/2/2020</td></tr><tr><td><a href=\"/states/new-mexico-population\">New Mexico</a></td><td>1,350,181</td><td>2,105,000</td><td>64.14%</td><td>10/30/2020</td></tr><tr><td><a href=\"/states/new-york-population\">New York</a></td><td>13,555,547</td><td>19,300,000</td><td>70.24%</td><td>11/1/2020</td></tr><tr><td><a href=\"/states/north-carolina-population\">North Carolina</a></td><td>7,361,219</td><td>10,701,000</td><td>68.79%</td><td>11/3/2020</td></tr><tr><td><a href=\"/states/north-dakota-population\">North Dakota</a></td><td>581,379</td><td>770,026</td><td>75.50%</td><td>3/1/2020</td></tr><tr><td><a href=\"/states/ohio-population\">Ohio</a></td><td>7,774,767</td><td>11,714,600</td><td>66.37%</td><td>3/17/2020</td></tr><tr><td><a href=\"/states/oklahoma-population\">Oklahoma</a></td><td>2,259,113</td><td>3,990,440</td><td>56.61%</td><td>11/1/2020</td></tr><tr><td><a href=\"/states/oregon-population\">Oregon</a></td><td>2,924,292</td><td>4,289,440</td><td>68.17%</td><td>10/7/2020</td></tr><tr><td><a href=\"/states/pennsylvania-population\">Pennsylvania</a></td><td>9,091,371</td><td>12,804,100</td><td>71.00%</td><td>11/2/2020</td></tr><tr><td><a href=\"/states/rhode-island-population\">Rhode Island</a></td><td>809,821</td><td>1,061,510</td><td>76.29%</td><td>11/3/2020</td></tr><tr><td><a href=\"/states/south-carolina-population\">South Carolina</a></td><td>3,513,225</td><td>5,277,830</td><td>66.57%</td><td>11/3/2020</td></tr><tr><td><a href=\"/states/south-dakota-population\">South Dakota</a></td><td>578,666</td><td>896,581</td><td>64.54%</td><td>11/3/2020</td></tr><tr><td><a href=\"/states/tennessee-population\">Tennessee</a></td><td>3,931,248</td><td>6,944,260</td><td>56.61%</td><td>6/1/2020</td></tr><tr><td><a href=\"/states/texas-population\">Texas</a></td><td>16,211,198</td><td>29,730,300</td><td>54.53%</td><td>3/1/2020</td></tr><tr><td><a href=\"/states/utah-population\">Utah</a></td><td>1,857,861</td><td>3,310,770</td><td>56.12%</td><td>11/3/2020</td></tr><tr><td><a href=\"/states/vermont-population\">Vermont</a></td><td>495,267</td><td>623,251</td><td>79.47%</td><td>9/1/2020</td></tr><tr><td><a href=\"/states/virginia-population\">Virginia</a></td><td>5,975,696</td><td>8,603,980</td><td>69.45%</td><td>11/1/2020</td></tr><tr><td><a href=\"/states/washington-population\">Washington</a></td><td>4,861,482</td><td>7,796,940</td><td>62.35%</td><td>10/27/2020</td></tr><tr><td><a href=\"/states/west-virginia-population\">West Virginia</a></td><td>1,268,460</td><td>1,767,860</td><td>71.75%</td><td>10/13/2020</td></tr><tr><td><a href=\"/states/wisconsin-population\">Wisconsin</a></td><td>3,684,726</td><td>5,852,490</td><td>62.96%</td><td>11/1/2020</td></tr><tr><td><a href=\"/states/wyoming-population\">Wyoming</a></td><td>268,837</td><td>581,075</td><td>46.27%</td><td>11/3/2020</td></tr></tbody>"
      ]
     },
     "execution_count": 96,
     "metadata": {},
     "output_type": "execute_result"
    }
   ],
   "source": [
    "# Take only the 'tbody' from the 'table' content from the html, and store in the state_data variable\n",
    "state_data = states.find('tbody')\n",
    "state_data"
   ]
  },
  {
   "cell_type": "markdown",
   "metadata": {},
   "source": [
    "#### Below is to create and test variables using ONE state"
   ]
  },
  {
   "cell_type": "code",
   "execution_count": 99,
   "metadata": {},
   "outputs": [
    {
     "data": {
      "text/plain": [
       "<tr><td><a href=\"/states/alabama-population\">Alabama</a></td><td>3,708,804</td><td>4,934,190</td><td>75.17%</td><td>11/4/2020</td></tr>"
      ]
     },
     "execution_count": 99,
     "metadata": {},
     "output_type": "execute_result"
    }
   ],
   "source": [
    "state_names = state_data.find_all('tr')\n",
    "state = state_names[0]\n",
    "state"
   ]
  },
  {
   "cell_type": "code",
   "execution_count": 100,
   "metadata": {},
   "outputs": [
    {
     "data": {
      "text/plain": [
       "'/states/alabama-population'"
      ]
     },
     "execution_count": 100,
     "metadata": {},
     "output_type": "execute_result"
    }
   ],
   "source": [
    "href = state.find('a')['href']\n",
    "href"
   ]
  },
  {
   "cell_type": "code",
   "execution_count": 102,
   "metadata": {},
   "outputs": [
    {
     "data": {
      "text/plain": [
       "'4,934,190'"
      ]
     },
     "execution_count": 102,
     "metadata": {},
     "output_type": "execute_result"
    }
   ],
   "source": [
    "state_population = state.find_all('td')[2].text\n",
    "state_population"
   ]
  },
  {
   "cell_type": "code",
   "execution_count": 104,
   "metadata": {},
   "outputs": [
    {
     "data": {
      "text/plain": [
       "'Alabama'"
      ]
     },
     "execution_count": 104,
     "metadata": {},
     "output_type": "execute_result"
    }
   ],
   "source": [
    "state_name = state.find('a').text\n",
    "state_name"
   ]
  },
  {
   "cell_type": "markdown",
   "metadata": {},
   "source": [
    "### Create a data frame to store all states data. This will be our fundamental data frame."
   ]
  },
  {
   "cell_type": "code",
   "execution_count": 120,
   "metadata": {},
   "outputs": [
    {
     "data": {
      "text/html": [
       "<div>\n",
       "<style scoped>\n",
       "    .dataframe tbody tr th:only-of-type {\n",
       "        vertical-align: middle;\n",
       "    }\n",
       "\n",
       "    .dataframe tbody tr th {\n",
       "        vertical-align: top;\n",
       "    }\n",
       "\n",
       "    .dataframe thead th {\n",
       "        text-align: right;\n",
       "    }\n",
       "</style>\n",
       "<table border=\"1\" class=\"dataframe\">\n",
       "  <thead>\n",
       "    <tr style=\"text-align: right;\">\n",
       "      <th></th>\n",
       "      <th>state_name</th>\n",
       "      <th>href</th>\n",
       "      <th>state_population</th>\n",
       "    </tr>\n",
       "  </thead>\n",
       "  <tbody>\n",
       "    <tr>\n",
       "      <th>0</th>\n",
       "      <td>Alabama</td>\n",
       "      <td>https://worldpopulationreview.com/states/alaba...</td>\n",
       "      <td>4,934,190</td>\n",
       "    </tr>\n",
       "    <tr>\n",
       "      <th>1</th>\n",
       "      <td>Alaska</td>\n",
       "      <td>https://worldpopulationreview.com/states/alask...</td>\n",
       "      <td>724,357</td>\n",
       "    </tr>\n",
       "    <tr>\n",
       "      <th>2</th>\n",
       "      <td>Arizona</td>\n",
       "      <td>https://worldpopulationreview.com/states/arizo...</td>\n",
       "      <td>7,520,100</td>\n",
       "    </tr>\n",
       "    <tr>\n",
       "      <th>3</th>\n",
       "      <td>Arkansas</td>\n",
       "      <td>https://worldpopulationreview.com/states/arkan...</td>\n",
       "      <td>3,033,950</td>\n",
       "    </tr>\n",
       "    <tr>\n",
       "      <th>4</th>\n",
       "      <td>California</td>\n",
       "      <td>https://worldpopulationreview.com/states/calif...</td>\n",
       "      <td>39,613,500</td>\n",
       "    </tr>\n",
       "  </tbody>\n",
       "</table>\n",
       "</div>"
      ],
      "text/plain": [
       "   state_name                                               href  \\\n",
       "0     Alabama  https://worldpopulationreview.com/states/alaba...   \n",
       "1      Alaska  https://worldpopulationreview.com/states/alask...   \n",
       "2     Arizona  https://worldpopulationreview.com/states/arizo...   \n",
       "3    Arkansas  https://worldpopulationreview.com/states/arkan...   \n",
       "4  California  https://worldpopulationreview.com/states/calif...   \n",
       "\n",
       "  state_population  \n",
       "0        4,934,190  \n",
       "1          724,357  \n",
       "2        7,520,100  \n",
       "3        3,033,950  \n",
       "4       39,613,500  "
      ]
     },
     "execution_count": 120,
     "metadata": {},
     "output_type": "execute_result"
    }
   ],
   "source": [
    "# Create an empty list to store states data by row\n",
    "state_rows = []\n",
    "\n",
    "# Use a for loop to loop throuh the states:\n",
    "for state in state_names:\n",
    "    \n",
    "    # Use Beautiful Soup's find() method to navigate and retrieve attributes \n",
    "    state_name = state.find('a').text\n",
    "    href = state.find('a')['href']\n",
    "    state_population = state.find_all('td')[2].text\n",
    "    \n",
    "    # Create a dictionary to store the each state's data in a new row\n",
    "    new_row={\n",
    "        'state_name': state_name,\n",
    "        'href': f\"https://worldpopulationreview.com{href}\",\n",
    "        'state_population': state_population\n",
    "    }\n",
    "    \n",
    "    # Append/add in each state's data to the state_rows list\n",
    "    state_rows.append(new_row)\n",
    "\n",
    "# Make the appended list to a new data frame, where all states' data are stored in here\n",
    "states_df = pd.DataFrame(state_rows)\n",
    "states_df.head()"
   ]
  },
  {
   "cell_type": "markdown",
   "metadata": {},
   "source": [
    "#### Create a data frame to store the Education Attainment data in"
   ]
  },
  {
   "cell_type": "code",
   "execution_count": 119,
   "metadata": {},
   "outputs": [
    {
     "data": {
      "text/html": [
       "<div>\n",
       "<style scoped>\n",
       "    .dataframe tbody tr th:only-of-type {\n",
       "        vertical-align: middle;\n",
       "    }\n",
       "\n",
       "    .dataframe tbody tr th {\n",
       "        vertical-align: top;\n",
       "    }\n",
       "\n",
       "    .dataframe thead th {\n",
       "        text-align: right;\n",
       "    }\n",
       "</style>\n",
       "<table border=\"1\" class=\"dataframe\">\n",
       "  <thead>\n",
       "    <tr style=\"text-align: right;\">\n",
       "      <th></th>\n",
       "      <th>Education Attained</th>\n",
       "      <th>Count</th>\n",
       "      <th>Percentage</th>\n",
       "      <th>state_name</th>\n",
       "    </tr>\n",
       "  </thead>\n",
       "  <tbody>\n",
       "    <tr>\n",
       "      <th>0</th>\n",
       "      <td>Less Than 9th Grade</td>\n",
       "      <td>142999.0</td>\n",
       "      <td>4.31%</td>\n",
       "      <td>Alabama</td>\n",
       "    </tr>\n",
       "    <tr>\n",
       "      <th>1</th>\n",
       "      <td>9th to 12th Grade</td>\n",
       "      <td>315923.0</td>\n",
       "      <td>9.51%</td>\n",
       "      <td>Alabama</td>\n",
       "    </tr>\n",
       "    <tr>\n",
       "      <th>2</th>\n",
       "      <td>High School Graduate</td>\n",
       "      <td>1022840.0</td>\n",
       "      <td>30.80%</td>\n",
       "      <td>Alabama</td>\n",
       "    </tr>\n",
       "    <tr>\n",
       "      <th>3</th>\n",
       "      <td>Some College</td>\n",
       "      <td>711028.0</td>\n",
       "      <td>21.41%</td>\n",
       "      <td>Alabama</td>\n",
       "    </tr>\n",
       "    <tr>\n",
       "      <th>4</th>\n",
       "      <td>Associates Degree</td>\n",
       "      <td>282316.0</td>\n",
       "      <td>8.50%</td>\n",
       "      <td>Alabama</td>\n",
       "    </tr>\n",
       "    <tr>\n",
       "      <th>...</th>\n",
       "      <td>...</td>\n",
       "      <td>...</td>\n",
       "      <td>...</td>\n",
       "      <td>...</td>\n",
       "    </tr>\n",
       "    <tr>\n",
       "      <th>2</th>\n",
       "      <td>High School Graduate</td>\n",
       "      <td>113535.0</td>\n",
       "      <td>29.07%</td>\n",
       "      <td>Wyoming</td>\n",
       "    </tr>\n",
       "    <tr>\n",
       "      <th>3</th>\n",
       "      <td>Some College</td>\n",
       "      <td>99677.0</td>\n",
       "      <td>25.52%</td>\n",
       "      <td>Wyoming</td>\n",
       "    </tr>\n",
       "    <tr>\n",
       "      <th>4</th>\n",
       "      <td>Associates Degree</td>\n",
       "      <td>43761.0</td>\n",
       "      <td>11.21%</td>\n",
       "      <td>Wyoming</td>\n",
       "    </tr>\n",
       "    <tr>\n",
       "      <th>5</th>\n",
       "      <td>Bachelors Degree</td>\n",
       "      <td>68269.0</td>\n",
       "      <td>17.48%</td>\n",
       "      <td>Wyoming</td>\n",
       "    </tr>\n",
       "    <tr>\n",
       "      <th>6</th>\n",
       "      <td>Graduate Degree</td>\n",
       "      <td>38586.0</td>\n",
       "      <td>9.88%</td>\n",
       "      <td>Wyoming</td>\n",
       "    </tr>\n",
       "  </tbody>\n",
       "</table>\n",
       "<p>350 rows × 4 columns</p>\n",
       "</div>"
      ],
      "text/plain": [
       "      Education Attained      Count Percentage state_name\n",
       "0    Less Than 9th Grade   142999.0      4.31%    Alabama\n",
       "1      9th to 12th Grade   315923.0      9.51%    Alabama\n",
       "2   High School Graduate  1022840.0     30.80%    Alabama\n",
       "3           Some College   711028.0     21.41%    Alabama\n",
       "4      Associates Degree   282316.0      8.50%    Alabama\n",
       "..                   ...        ...        ...        ...\n",
       "2   High School Graduate   113535.0     29.07%    Wyoming\n",
       "3           Some College    99677.0     25.52%    Wyoming\n",
       "4      Associates Degree    43761.0     11.21%    Wyoming\n",
       "5       Bachelors Degree    68269.0     17.48%    Wyoming\n",
       "6        Graduate Degree    38586.0      9.88%    Wyoming\n",
       "\n",
       "[350 rows x 4 columns]"
      ]
     },
     "execution_count": 119,
     "metadata": {},
     "output_type": "execute_result"
    }
   ],
   "source": [
    "# Create an empty data frame to store the Education Attainment data from each state's website\n",
    "education_attainment_df = pd.DataFrame({'Education Attained': [], 'Count': [], 'Percentage': [], 'state_name': []})\n",
    "\n",
    "# Use a for loop to loop to loop through each state's name and href. From each state's href, find the table that has the Education Attainment data. \n",
    "for idx in range(len(states_df[['state_name', 'href']])):\n",
    "    state_name, href = states_df[['state_name', 'href']].iloc[idx]\n",
    "    tables = pd.read_html(href)\n",
    "    education_attainment_df_temp = tables[3]\n",
    "    education_attainment_df_temp['state_name'] = state_name\n",
    "    # Appending/adding in each state's Education Attainment data into the empty data frame\n",
    "    education_attainment_df = education_attainment_df.append(education_attainment_df_temp)\n",
    "    \n",
    "education_attainment_df    "
   ]
  },
  {
   "cell_type": "code",
   "execution_count": null,
   "metadata": {},
   "outputs": [],
   "source": [
    "# education_attainment_df.to_csv('')"
   ]
  }
 ],
 "metadata": {
  "kernelspec": {
   "display_name": "Python 3",
   "language": "python",
   "name": "python3"
  },
  "language_info": {
   "codemirror_mode": {
    "name": "ipython",
    "version": 3
   },
   "file_extension": ".py",
   "mimetype": "text/x-python",
   "name": "python",
   "nbconvert_exporter": "python",
   "pygments_lexer": "ipython3",
   "version": "3.8.5"
  }
 },
 "nbformat": 4,
 "nbformat_minor": 4
}
